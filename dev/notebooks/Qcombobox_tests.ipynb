{
 "cells": [
  {
   "cell_type": "code",
   "execution_count": 1,
   "id": "0545a6e9-800b-4c30-9d17-5dea4c9a449d",
   "metadata": {},
   "outputs": [],
   "source": [
    "%gui qt6\n",
    "from PyQt6 import QtWidgets\n",
    "from PyQt6 import QtCore\n",
    "mainw = QtWidgets.QMainWindow()\n",
    "qcb = QtWidgets.QComboBox(editable=False)\n",
    "btn = QtWidgets.QPushButton()\n",
    "layout = QtWidgets.QHBoxLayout()\n",
    "layout.addWidget(qcb)\n",
    "layout.addWidget(btn)\n",
    "w = QtWidgets.QWidget()\n",
    "w.setLayout(layout)\n",
    "mainw.setCentralWidget(w)\n",
    "mainw.show()"
   ]
  },
  {
   "cell_type": "code",
   "execution_count": 2,
   "id": "dfac2965-47f9-4039-ad07-091cb279bef7",
   "metadata": {},
   "outputs": [],
   "source": [
    "from celexta.gcn_maker import AuthorModel\n",
    "import pandas as pd\n",
    "df = pd.read_csv('../../celexta/config/GCN_authors.csv')\n",
    "\n",
    "model = AuthorModel(authors=list(df.itertuples(index=False, name=None)))\n",
    "qcb.setModel(model)"
   ]
  },
  {
   "cell_type": "code",
   "execution_count": 3,
   "id": "acb78f91-0b01-4ecb-ae5d-ccc5af0d1019",
   "metadata": {},
   "outputs": [],
   "source": [
    "completer = QtWidgets.QCompleter(model)\n",
    "completer.setCaseSensitivity(QtCore.Qt.CaseSensitivity.CaseInsensitive)\n",
    "completer.setFilterMode(QtCore.Qt.MatchFlag.MatchContains)\n",
    "# completer.setCompletionMode(QtWidgets.QCompleter.CompletionMode.InlineCompletion)\n",
    "qcb.setCompleter(completer)\n"
   ]
  },
  {
   "cell_type": "code",
   "execution_count": 3,
   "id": "2a478390-e361-40a6-9a19-55a9f32aedcb",
   "metadata": {},
   "outputs": [
    {
     "data": {
      "text/plain": [
       "<PyQt6.QtCore.QMetaObject.Connection at 0x110cfa2d0>"
      ]
     },
     "execution_count": 3,
     "metadata": {},
     "output_type": "execute_result"
    }
   ],
   "source": [
    "def hello(*args):\n",
    "    print(f\"Hello, {args}\")\n",
    "    ind=qcb.currentIndex()\n",
    "    print(f\"Current index: {ind}\")\n",
    "    qcb.clearEditText()\n",
    "    name = model.get_name_w_affiliation(ind)\n",
    "    print(f\"Author to add: {name}\")\n",
    "btn.clicked.connect(hello)"
   ]
  },
  {
   "cell_type": "code",
   "execution_count": 4,
   "id": "56e2613c-bded-42e6-a725-9b331c18ad2f",
   "metadata": {},
   "outputs": [
    {
     "data": {
      "text/plain": [
       "[('A. Dumbledore', 'Hogwarts'),\n",
       " ('S. Snape', 'Hogwarts'),\n",
       " ('H. Potter', 'Hogwarts'),\n",
       " ('V. Krum', 'Durmstrang')]"
      ]
     },
     "execution_count": 4,
     "metadata": {},
     "output_type": "execute_result"
    }
   ],
   "source": [
    "l0 = model.authors\n",
    "l0"
   ]
  },
  {
   "cell_type": "code",
   "execution_count": 13,
   "id": "e51fc33e-c7aa-405b-9fae-9116a3f7ba67",
   "metadata": {},
   "outputs": [],
   "source": [
    "l0.sort()"
   ]
  },
  {
   "cell_type": "code",
   "execution_count": 25,
   "id": "1f07371a-506a-4fe7-b839-deb1e71c1278",
   "metadata": {},
   "outputs": [
    {
     "data": {
      "text/plain": [
       "[('', ''),\n",
       " ('A. Dumbledore', 'Hogwarts'),\n",
       " ('V. Krum', 'Durmstrang'),\n",
       " ('H. Potter', 'Hogwarts'),\n",
       " ('S. Snape', 'Hogwarts')]"
      ]
     },
     "execution_count": 25,
     "metadata": {},
     "output_type": "execute_result"
    }
   ],
   "source": [
    "l0"
   ]
  },
  {
   "cell_type": "code",
   "execution_count": 10,
   "id": "01b5484c-a0a1-4601-b8d2-f45b416df341",
   "metadata": {},
   "outputs": [],
   "source": [
    "l0.append(('', ''))"
   ]
  },
  {
   "cell_type": "code",
   "execution_count": 11,
   "id": "4b046734-dbc0-4686-8071-fcbc1154e57c",
   "metadata": {},
   "outputs": [
    {
     "data": {
      "text/plain": [
       "[('A. Dumbledore', 'Hogwarts'),\n",
       " ('H. Potter', 'Hogwarts'),\n",
       " ('S. Snape', 'Hogwarts'),\n",
       " ('V. Krum', 'Durmstrang'),\n",
       " ('', '')]"
      ]
     },
     "execution_count": 11,
     "metadata": {},
     "output_type": "execute_result"
    }
   ],
   "source": [
    "l0"
   ]
  },
  {
   "cell_type": "code",
   "execution_count": 17,
   "id": "0f8a968c-1e43-455e-ab8f-c310fd57dec6",
   "metadata": {},
   "outputs": [],
   "source": [
    "btn.clicked.disconnect()"
   ]
  },
  {
   "cell_type": "code",
   "execution_count": 20,
   "id": "0c65e18c-8857-4629-96e8-def019adcdb4",
   "metadata": {},
   "outputs": [],
   "source": [
    "qcb.clear()"
   ]
  },
  {
   "cell_type": "code",
   "execution_count": 19,
   "id": "f6790cfc-c812-45ef-9e72-c432de5fc2a7",
   "metadata": {},
   "outputs": [
    {
     "name": "stdout",
     "output_type": "stream",
     "text": [
      "Hello, (False,)\n",
      "Current index: 0\n",
      "Author to add: A. Dumbledore Hogwarts)\n"
     ]
    }
   ],
   "source": [
    "qcb.setEditable(False)\n"
   ]
  },
  {
   "cell_type": "code",
   "execution_count": null,
   "id": "218becb5-4d2a-4bee-bbfb-1374d6cfd39e",
   "metadata": {},
   "outputs": [],
   "source": []
  }
 ],
 "metadata": {
  "kernelspec": {
   "display_name": "Python 3 (ipykernel)",
   "language": "python",
   "name": "python3"
  },
  "language_info": {
   "codemirror_mode": {
    "name": "ipython",
    "version": 3
   },
   "file_extension": ".py",
   "mimetype": "text/x-python",
   "name": "python",
   "nbconvert_exporter": "python",
   "pygments_lexer": "ipython3",
   "version": "3.10.14"
  }
 },
 "nbformat": 4,
 "nbformat_minor": 5
}
