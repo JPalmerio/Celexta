{
 "cells": [
  {
   "cell_type": "code",
   "execution_count": 1,
   "id": "30ad4d0d-7d02-4911-9766-3dcbec064360",
   "metadata": {},
   "outputs": [
    {
     "name": "stdout",
     "output_type": "stream",
     "text": [
      "2025-02-25 07:22:06 -    DEBUG - OpenGL.acceleratesupport - [acceleratesupport.py: 20 -   <module>] - OpenGL_accelerate module loaded\n",
      "2025-02-25 07:22:06 -    DEBUG - OpenGL.arrays.arraydatatype - [arraydatatype.py:334 -   <module>] - Using accelerated ArrayDatatype\n"
     ]
    }
   ],
   "source": [
    "import logging\n",
    "import sys\n",
    "from pathlib import Path\n",
    "from celexta.initialize import default_logging, update_logging\n",
    "log = default_logging()\n",
    "update_logging(log_level=logging.DEBUG)\n",
    "logging.getLogger(\"matplotlib\").setLevel(logging.WARNING)\n",
    "logging.getLogger(\"numcodecs\").setLevel(logging.WARNING)\n",
    "from astropy.visualization import ZScaleInterval\n",
    "from astropy.utils.data import get_pkg_data_filename\n",
    "from astropy.io import fits\n",
    "from astropy.wcs import WCS\n",
    "from astropy.visualization.wcsaxes import WCSAxes\n",
    "from astropy.visualization.wcsaxes import SphericalCircle\n",
    "from astropy.visualization import imshow_norm\n",
    "from astropy.coordinates import SkyCoord\n",
    "import astropy.units as u\n",
    "import numpy as np\n",
    "import matplotlib.pyplot as plt\n",
    "from PyQt6.QtWidgets import QMainWindow\n",
    "from matplotlib.backends.backend_qt5agg import FigureCanvasQTAgg as FigureCanvas\n",
    "from celexta.examples import *\n",
    "import pyqtgraph as pg\n",
    "%matplotlib qt"
   ]
  },
  {
   "cell_type": "markdown",
   "id": "5d9004ad",
   "metadata": {},
   "source": [
    "# Rotate and align images"
   ]
  },
  {
   "cell_type": "markdown",
   "id": "ad060db7",
   "metadata": {},
   "source": [
    "## Define all images"
   ]
  },
  {
   "cell_type": "code",
   "execution_count": 3,
   "id": "e1effc95",
   "metadata": {},
   "outputs": [],
   "source": [
    "# PS1\n",
    "hdu_ps1 = fits.open(\"~/Downloads/ps1.fits\")[0]\n",
    "# VT full image\n",
    "hdu_vt = fits.open(\"~/Downloads/1storb_R_com.fits\")[0]\n",
    "star1 = SkyCoord(\"5h36m49\",\"-25:20:20\", unit=(\"hourangle\",\"deg\"), frame=\"icrs\")\n",
    "# LS\n",
    "hdu_ls = fits.open(\"~/Desktop/ls_img.fits\")[0]\n",
    "# VT subimage\n",
    "hdul_qim = fits.open(\"~/.celexta/cache/svom/sb25020504/qim1b_vt.fits\")\n",
    "hdu_qimb0 = hdul_qim[1]\n",
    "hdu_qimb1 = hdul_qim[2]\n",
    "hdu_qimr0 = hdul_qim[3]\n",
    "hdu_qimr1 = hdul_qim[4]\n",
    "hdu_qimr0.data = hdu_qimr0.data.T\n",
    "hdu_qimr1.data = hdu_qimr1.data.T\n",
    "star2 = SkyCoord(113.4812,32.3908, unit=(\"deg\",\"deg\"), frame=\"icrs\")"
   ]
  },
  {
   "cell_type": "markdown",
   "id": "6fe1afe2",
   "metadata": {},
   "source": [
    "## Rotate matplotlib axis"
   ]
  },
  {
   "cell_type": "code",
   "execution_count": 3,
   "id": "39d4466b",
   "metadata": {},
   "outputs": [
    {
     "name": "stdout",
     "output_type": "stream",
     "text": [
      "2025-02-08 13:44:04 -  WARNING - astropy - [logger.py:235 - _showwarning] - FITSFixedWarning: RADECSYS= 'FK5 ' \n",
      "the RADECSYS keyword is deprecated, use RADESYSa.\n"
     ]
    },
    {
     "name": "stderr",
     "output_type": "stream",
     "text": [
      "WARNING: FITSFixedWarning: RADECSYS= 'FK5 ' \n",
      "the RADECSYS keyword is deprecated, use RADESYSa. [astropy.wcs.wcs]\n"
     ]
    }
   ],
   "source": [
    "\n",
    "def default_check(hdu, star, interval=ZScaleInterval()):\n",
    "    wcs = WCS(hdu)\n",
    "\n",
    "\n",
    "    fig = plt.figure(figsize=(6,6))\n",
    "        # Original image\n",
    "    ax = fig.add_subplot(1, 1, 1, projection=wcs)\n",
    "    ax.set_title(\"Original\")\n",
    "    imshow_norm(hdu.data, ax=ax, origin=\"lower\", cmap=\"gray\", interval=interval)\n",
    "    ax.coords.grid(True, color=\"red\", linestyle=\"dotted\", linewidth=1)\n",
    "    ax.scatter(star.ra.deg, star.dec.deg,\n",
    "                transform=ax.get_transform(\"world\"),\n",
    "                facecolor=\"none\",\n",
    "                edgecolors=\"C0\",\n",
    "                )\n",
    "    ax.coords[0].set_axislabel(\"RA\")\n",
    "    ax.coords[1].set_axislabel(\"Dec\")\n",
    "\n",
    "default_check(hdu_qimr0, star=star2, interval=None)"
   ]
  },
  {
   "cell_type": "code",
   "execution_count": 8,
   "id": "fe3a1bdc",
   "metadata": {},
   "outputs": [],
   "source": [
    "import numpy as np\n",
    "import matplotlib.pyplot as plt\n",
    "from astropy.io import fits\n",
    "from astropy.wcs import WCS\n",
    "from astropy.visualization.wcsaxes import WCSAxes\n",
    "from astropy.visualization import imshow_norm\n",
    "from scipy.ndimage import rotate\n",
    "from reproject import reproject_interp\n",
    "\n",
    "def rotate_wcs_axes(hdu, theta_deg, star, interval=None):\n",
    "    \"\"\"Rotates the WCS projection of a Matplotlib Axes without modifying the image pixels.\"\"\"\n",
    "    default_check(hdu, star=star, interval=interval)\n",
    "    hdu = hdu.copy()\n",
    "    wcs = WCS(hdu.header)\n",
    "    # Get image dimensions\n",
    "    original_shape = hdu.data.shape\n",
    "    h, w = original_shape\n",
    "\n",
    "    # Convert rotation angle to radians\n",
    "    theta_rad = np.radians(theta_deg)\n",
    "\n",
    "    # Compute rotation matrix\n",
    "    R = np.array([\n",
    "        [np.cos(theta_rad), -np.sin(theta_rad)],\n",
    "        [np.sin(theta_rad),  np.cos(theta_rad)]\n",
    "    ])\n",
    "\n",
    "    # Apply rotation to the WCS CD matrix\n",
    "    new_cd_matrix = np.dot(R, wcs.wcs.cd)\n",
    "    wcs.wcs.cd = new_cd_matrix\n",
    "\n",
    "    # Compute expanded shape to fit rotated image\n",
    "    diag = int(np.ceil(np.sqrt(h**2 + w**2)))  # Diagonal size to fit full rotation\n",
    "    new_shape = (diag, diag)\n",
    "\n",
    "    # Shift the WCS reference pixel (CRPIX) to keep the image centered\n",
    "    old_center = np.array([w / 2, h / 2])  # Original center in pixels\n",
    "    new_center = np.array([diag / 2, diag / 2])  # New center in pixels\n",
    "    shift = new_center - old_center\n",
    "    wcs.wcs.crpix += shift\n",
    "\n",
    "    # Rotate the image data using scipy.ndimage.rotate()\n",
    "    reprojected_data = rotate(hdu.data, -theta_deg, reshape=True)\n",
    "\n",
    "    # Reproject onto the new WCS grid (ensures correct alignment)\n",
    "    # reprojected_data, _ = reproject_interp(hdu, wcs, shape_out=new_shape)\n",
    "\n",
    "    # Save the rotated image\n",
    "    hdu.data = reprojected_data\n",
    "    hdu.header.update(wcs.to_header())\n",
    "\n",
    "    default_check(hdu, star=star, interval=interval)\n",
    "\n",
    "# Example usage (Replace \"image.fits\" with your actual file)\n",
    "rotate_wcs_axes(\n",
    "    hdu_ls,\n",
    "    45,\n",
    "    star=star2,\n",
    "    # interval=None,\n",
    "    interval=ZScaleInterval(),\n",
    "    )  # Rotates the WCS by 45°"
   ]
  },
  {
   "cell_type": "code",
   "execution_count": null,
   "id": "f25dc4da",
   "metadata": {},
   "outputs": [
    {
     "data": {
      "text/plain": [
       "461"
      ]
     },
     "execution_count": 16,
     "metadata": {},
     "output_type": "execute_result"
    }
   ],
   "source": []
  },
  {
   "cell_type": "code",
   "execution_count": 18,
   "id": "309cd5e9",
   "metadata": {},
   "outputs": [
    {
     "name": "stdout",
     "output_type": "stream",
     "text": [
      "2025-02-08 13:57:07 -  WARNING - astropy - [logger.py:235 - _showwarning] - FITSFixedWarning: RADECSYS= 'FK5 ' \n",
      "the RADECSYS keyword is deprecated, use RADESYSa.\n"
     ]
    },
    {
     "name": "stderr",
     "output_type": "stream",
     "text": [
      "WARNING: FITSFixedWarning: RADECSYS= 'FK5 ' \n",
      "the RADECSYS keyword is deprecated, use RADESYSa. [astropy.wcs.wcs]\n"
     ]
    }
   ],
   "source": [
    "from matplotlib.transforms import Affine2D\n",
    "import mpl_toolkits.axisartist.floating_axes as floating_axes\n",
    "wcs = WCS(hdu_qimb0)\n",
    "fig = plt.figure()\n",
    "plot_extents = 0, hdu_qimb0.header[\"NAXIS1\"], 0, hdu_qimb0.header[\"NAXIS2\"]\n",
    "transform = Affine2D().rotate_deg(45)\n",
    "helper = floating_axes.GridHelperCurveLinear(transform, plot_extents)\n",
    "ax = floating_axes.FloatingSubplot(fig, 111, grid_helper=helper)\n",
    "ax.imshow(hdu_qimb0.data, vmin=0, vmax=1, origin=\"lower\")#, transform=ax.get_transform(\"world\"))\n",
    "fig.add_subplot(ax)\n",
    "fig.canvas.draw()\n",
    "plt.show()"
   ]
  },
  {
   "cell_type": "markdown",
   "id": "8108b092",
   "metadata": {},
   "source": [
    "## Rotate image to north"
   ]
  },
  {
   "cell_type": "code",
   "execution_count": 8,
   "id": "02b10f55",
   "metadata": {},
   "outputs": [
    {
     "name": "stdout",
     "output_type": "stream",
     "text": [
      "2025-02-08 07:24:01 -    DEBUG - celexta.examples - [examples.py: 93 - get_vt_img] - Getting VT image\n",
      "2025-02-08 07:24:01 -    DEBUG - celexta.examples - [examples.py: 93 - get_vt_img] - Getting VT image\n",
      "2025-02-08 07:24:01 -  WARNING - astropy - [logger.py:235 - _showwarning] - FITSFixedWarning: TSTART = / null value \n",
      "a floating-point value was expected.\n",
      "2025-02-08 07:24:01 -  WARNING - astropy - [logger.py:235 - _showwarning] - FITSFixedWarning: TSTART = / null value \n",
      "a floating-point value was expected.\n",
      "2025-02-08 07:24:01 -  WARNING - astropy - [logger.py:235 - _showwarning] - FITSFixedWarning: TSTOP = / null value \n",
      "a floating-point value was expected.\n",
      "2025-02-08 07:24:01 -  WARNING - astropy - [logger.py:235 - _showwarning] - FITSFixedWarning: TSTOP = / null value \n",
      "a floating-point value was expected.\n",
      "2025-02-08 07:24:01 -  WARNING - astropy - [logger.py:235 - _showwarning] - FITSFixedWarning: RADECSYS= 'FK5 ' \n",
      "the RADECSYS keyword is deprecated, use RADESYSa.\n",
      "2025-02-08 07:24:01 -  WARNING - astropy - [logger.py:235 - _showwarning] - FITSFixedWarning: RADECSYS= 'FK5 ' \n",
      "the RADECSYS keyword is deprecated, use RADESYSa.\n",
      "2025-02-08 07:24:01 -  WARNING - astropy - [logger.py:235 - _showwarning] - FITSFixedWarning: 'datfix' made the change 'Set DATEREF to '2017-01-01' from MJDREF.\n",
      "Set MJD-OBS to 60661.709230 from DATE-OBS.\n",
      "Set MJD-END to 60661.710388 from DATE-END'.\n",
      "2025-02-08 07:24:01 -  WARNING - astropy - [logger.py:235 - _showwarning] - FITSFixedWarning: 'datfix' made the change 'Set DATEREF to '2017-01-01' from MJDREF.\n",
      "Set MJD-OBS to 60661.709230 from DATE-OBS.\n",
      "Set MJD-END to 60661.710388 from DATE-END'.\n",
      "2025-02-08 07:24:01 -  WARNING - astropy - [logger.py:235 - _showwarning] - FITSFixedWarning: PC001001= -1. \n",
      "this form of the PCi_ja keyword is deprecated, use PCi_ja.\n",
      "2025-02-08 07:24:01 -  WARNING - astropy - [logger.py:235 - _showwarning] - FITSFixedWarning: PC001001= -1. \n",
      "this form of the PCi_ja keyword is deprecated, use PCi_ja.\n",
      "2025-02-08 07:24:01 -  WARNING - astropy - [logger.py:235 - _showwarning] - FITSFixedWarning: PC001002= 0. \n",
      "this form of the PCi_ja keyword is deprecated, use PCi_ja.\n",
      "2025-02-08 07:24:01 -  WARNING - astropy - [logger.py:235 - _showwarning] - FITSFixedWarning: PC001002= 0. \n",
      "this form of the PCi_ja keyword is deprecated, use PCi_ja.\n",
      "2025-02-08 07:24:01 -  WARNING - astropy - [logger.py:235 - _showwarning] - FITSFixedWarning: PC002001= 0. \n",
      "this form of the PCi_ja keyword is deprecated, use PCi_ja.\n",
      "2025-02-08 07:24:01 -  WARNING - astropy - [logger.py:235 - _showwarning] - FITSFixedWarning: PC002001= 0. \n",
      "this form of the PCi_ja keyword is deprecated, use PCi_ja.\n",
      "2025-02-08 07:24:01 -  WARNING - astropy - [logger.py:235 - _showwarning] - FITSFixedWarning: PC002002= 1. \n",
      "this form of the PCi_ja keyword is deprecated, use PCi_ja.\n",
      "2025-02-08 07:24:01 -  WARNING - astropy - [logger.py:235 - _showwarning] - FITSFixedWarning: PC002002= 1. \n",
      "this form of the PCi_ja keyword is deprecated, use PCi_ja.\n",
      "2025-02-08 07:24:01 -  WARNING - astropy - [logger.py:235 - _showwarning] - FITSFixedWarning: 'datfix' made the change 'Set DATE-OBS to '2012-09-01T09:03:24.142' from MJD-OBS'.\n",
      "2025-02-08 07:24:01 -  WARNING - astropy - [logger.py:235 - _showwarning] - FITSFixedWarning: 'datfix' made the change 'Set DATE-OBS to '2012-09-01T09:03:24.142' from MJD-OBS'.\n",
      "2025-02-08 07:24:01 -     INFO - reproject.common - [common.py:167 - _reproject_dispatcher] - Calling _reproject_full in non-dask mode\n",
      "2025-02-08 07:24:01 -     INFO - reproject.common - [common.py:167 - _reproject_dispatcher] - Calling _reproject_full in non-dask mode\n"
     ]
    },
    {
     "name": "stderr",
     "output_type": "stream",
     "text": [
      "WARNING: FITSFixedWarning: TSTART = / null value \n",
      "a floating-point value was expected. [astropy.wcs.wcs]\n",
      "WARNING: FITSFixedWarning: TSTOP = / null value \n",
      "a floating-point value was expected. [astropy.wcs.wcs]\n",
      "WARNING: FITSFixedWarning: RADECSYS= 'FK5 ' \n",
      "the RADECSYS keyword is deprecated, use RADESYSa. [astropy.wcs.wcs]\n",
      "WARNING: FITSFixedWarning: 'datfix' made the change 'Set DATEREF to '2017-01-01' from MJDREF.\n",
      "Set MJD-OBS to 60661.709230 from DATE-OBS.\n",
      "Set MJD-END to 60661.710388 from DATE-END'. [astropy.wcs.wcs]\n",
      "WARNING: FITSFixedWarning: PC001001= -1. \n",
      "this form of the PCi_ja keyword is deprecated, use PCi_ja. [astropy.wcs.wcs]\n",
      "WARNING: FITSFixedWarning: PC001002= 0. \n",
      "this form of the PCi_ja keyword is deprecated, use PCi_ja. [astropy.wcs.wcs]\n",
      "WARNING: FITSFixedWarning: PC002001= 0. \n",
      "this form of the PCi_ja keyword is deprecated, use PCi_ja. [astropy.wcs.wcs]\n",
      "WARNING: FITSFixedWarning: PC002002= 1. \n",
      "this form of the PCi_ja keyword is deprecated, use PCi_ja. [astropy.wcs.wcs]\n",
      "WARNING: FITSFixedWarning: 'datfix' made the change 'Set DATE-OBS to '2012-09-01T09:03:24.142' from MJD-OBS'. [astropy.wcs.wcs]\n"
     ]
    }
   ],
   "source": [
    "from reproject import reproject_interp\n",
    "hdu1 = fits.open(url)[0]\n",
    "hdu2 = get_vt_img()\n",
    "array, footprint = reproject_interp(hdu2, hdu1.header)\n"
   ]
  },
  {
   "cell_type": "code",
   "execution_count": 9,
   "id": "c4104125",
   "metadata": {},
   "outputs": [],
   "source": [
    "ax1 = plt.subplot(1,2,1, projection=WCS(hdu1.header))\n",
    "vmin, vmax = ZScaleInterval().get_limits(array)\n",
    "ax1.imshow(array, origin='lower', vmin=vmin, vmax=vmax)\n",
    "ax1.coords['ra'].set_axislabel('Right Ascension')\n",
    "ax1.coords['dec'].set_axislabel('Declination')\n",
    "\n",
    "ax2 = plt.subplot(1,2,2, projection=WCS(hdu1.header))\n",
    "vmin, vmax = ZScaleInterval().get_limits(hdu1.data)\n",
    "ax2.imshow(hdu1.data, origin='lower', vmin=vmin, vmax=vmax)\n",
    "ax2.coords['ra'].set_axislabel('Right Ascension')\n",
    "ax2.coords['dec'].set_axislabel('Declination')\n",
    "ax2.coords['dec'].set_axislabel_position('r')\n",
    "ax2.coords['dec'].set_ticklabel_position('r')"
   ]
  },
  {
   "cell_type": "code",
   "execution_count": null,
   "id": "9b2e9b45",
   "metadata": {},
   "outputs": [
    {
     "name": "stdout",
     "output_type": "stream",
     "text": [
      "2025-02-04 19:40:08 -     INFO - celexta.main_plot - [main_plot.py: 89 -  set_focus] - Setting focus to frame: <celexta.frames.ImageFrame object at 0x13f1dcff0>\n",
      "2025-02-04 19:40:08 -     INFO - celexta.main_plot - [main_plot.py: 89 -  set_focus] - Setting focus to frame: <celexta.frames.ImageFrame object at 0x13f1dcff0>\n"
     ]
    },
    {
     "data": {
      "text/plain": [
       "<celexta.frames.ImageFrame at 0x13f1dcff0>"
      ]
     },
     "execution_count": 65,
     "metadata": {},
     "output_type": "execute_result"
    }
   ],
   "source": [
    "\n",
    "frame_ps = mp.add_frame(image_data=hdu.data, projection=WCS(hdu.header), name=\"PS1DR2\")"
   ]
  },
  {
   "cell_type": "code",
   "execution_count": 70,
   "id": "b75552d4",
   "metadata": {},
   "outputs": [],
   "source": [
    "frame_ps = mp.frames[2]\n",
    "frame_ls = mp.frames[1]"
   ]
  },
  {
   "cell_type": "code",
   "execution_count": 18,
   "id": "2c33d352",
   "metadata": {},
   "outputs": [
    {
     "data": {
      "text/plain": [
       "array([[ 84.19643957, -25.23657255],\n",
       "       [ 84.03071218, -25.37767537]])"
      ]
     },
     "execution_count": 18,
     "metadata": {},
     "output_type": "execute_result"
    }
   ],
   "source": [
    "frame = mp.frames[0]\n",
    "wcs_ref = frame.ax.wcs\n",
    "ax_ref = frame.ax  # Reference frame's axis\n"
   ]
  },
  {
   "cell_type": "code",
   "execution_count": 26,
   "id": "482c44b3",
   "metadata": {},
   "outputs": [
    {
     "data": {
      "text/plain": [
       "array([[ 84.17534349, -25.3021775 ],\n",
       "       [ 84.16243629, -25.31317504]])"
      ]
     },
     "execution_count": 26,
     "metadata": {},
     "output_type": "execute_result"
    }
   ],
   "source": [
    "\n",
    "# Get the displayed RA/DEC extent from the reference frame\n",
    "xlim, ylim = ax_ref.get_xlim(), ax_ref.get_ylim()\n",
    "ra_dec_corners = wcs_ref.all_pix2world([[xlim[0], ylim[0]], [xlim[1], ylim[1]]], 0)\n",
    "ra_dec_corners"
   ]
  },
  {
   "cell_type": "code",
   "execution_count": 27,
   "id": "e379fa4d",
   "metadata": {},
   "outputs": [
    {
     "data": {
      "text/plain": [
       "array([[405.27267684, 956.43571501],\n",
       "       [565.61535387, 805.33836348]])"
      ]
     },
     "execution_count": 27,
     "metadata": {},
     "output_type": "execute_result"
    }
   ],
   "source": [
    "target_frame = mp.frames[1]\n",
    "# Get the WCS of the target frame\n",
    "wcs_target = target_frame.ax.wcs\n",
    "\n",
    "# Convert world coordinates to pixel coordinates in the target frame\n",
    "target_pixels = wcs_target.all_world2pix(ra_dec_corners, 0)\n",
    "target_pixels"
   ]
  },
  {
   "cell_type": "code",
   "execution_count": 28,
   "id": "b7e6480a",
   "metadata": {},
   "outputs": [],
   "source": [
    "# Set the axis limits in the target frame to match the calculated pixel extent\n",
    "target_frame.ax.set_xlim(target_pixels[:, 0])\n",
    "target_frame.ax.set_ylim(target_pixels[:, 1])\n",
    "mp.canvas.draw()"
   ]
  },
  {
   "cell_type": "markdown",
   "id": "76f11709",
   "metadata": {},
   "source": [
    "## New method with rotation"
   ]
  },
  {
   "cell_type": "code",
   "execution_count": 33,
   "id": "2b707d71",
   "metadata": {},
   "outputs": [
    {
     "data": {
      "text/plain": [
       "array([[ 84.18350946, -25.29154588],\n",
       "       [ 84.15232072, -25.29071093],\n",
       "       [ 84.18258941, -25.31974586],\n",
       "       [ 84.15139279, -25.31891063]])"
      ]
     },
     "execution_count": 33,
     "metadata": {},
     "output_type": "execute_result"
    }
   ],
   "source": [
    "# Get the pixel limits of the reference frame\n",
    "xlim_ref, ylim_ref = ax_ref.get_xlim(), ax_ref.get_ylim()\n",
    "\n",
    "# Get the four corner pixel coordinates\n",
    "corners_pix = np.array([\n",
    "    [xlim_ref[0], ylim_ref[0]],  # Bottom-left\n",
    "    [xlim_ref[0], ylim_ref[1]],  # Top-left\n",
    "    [xlim_ref[1], ylim_ref[0]],  # Bottom-right\n",
    "    [xlim_ref[1], ylim_ref[1]]   # Top-right\n",
    "])\n",
    "\n",
    "# Convert pixel coordinates to world coordinates (RA/Dec)\n",
    "corners_world = wcs_ref.all_pix2world(corners_pix, 0)\n",
    "corners_world"
   ]
  },
  {
   "cell_type": "code",
   "execution_count": 34,
   "id": "65d968c4",
   "metadata": {},
   "outputs": [
    {
     "data": {
      "text/plain": [
       "array([[ 303.80407183, 1102.50235469],\n",
       "       [ 691.27398687, 1114.00565031],\n",
       "       [ 315.3073355 ,  715.0239452 ],\n",
       "       [ 702.78492417,  726.52821996]])"
      ]
     },
     "execution_count": 34,
     "metadata": {},
     "output_type": "execute_result"
    }
   ],
   "source": [
    "# Convert world coordinates to pixel coordinates in the target frame\n",
    "corners_pix_target = wcs_target.all_world2pix(corners_world, 0)\n",
    "corners_pix_target"
   ]
  },
  {
   "cell_type": "code",
   "execution_count": 58,
   "id": "d3ef597d",
   "metadata": {},
   "outputs": [],
   "source": [
    "overlay = ax1.get_coords_overlay('galactic')\n",
    "overlay.grid(color='b', ls='dotted')\n",
    "mp.canvas.draw()"
   ]
  },
  {
   "cell_type": "code",
   "execution_count": 37,
   "id": "64a9fa77",
   "metadata": {},
   "outputs": [],
   "source": [
    "# Get new x/y pixel limits from the transformed coordinates\n",
    "xlim_target = [corners_pix_target[0, 0], corners_pix_target[1, 0]]\n",
    "ylim_target = [np.min(corners_pix_target[:, 1]), np.max(corners_pix_target[:, 1])]\n",
    "\n",
    "# Apply the new limits to the target frame\n",
    "target_frame.ax.set_xlim(xlim_target)\n",
    "target_frame.ax.set_ylim(ylim_target)\n",
    "mp.canvas.draw()\n"
   ]
  },
  {
   "cell_type": "code",
   "execution_count": 111,
   "id": "28bf6634",
   "metadata": {},
   "outputs": [
    {
     "name": "stdout",
     "output_type": "stream",
     "text": [
      "2025-02-06 17:46:15 -    DEBUG - celexta.examples - [examples.py: 83 - get_vt_img] - Getting VT image\n",
      "2025-02-06 17:46:15 -    DEBUG - celexta.examples - [examples.py: 83 - get_vt_img] - Getting VT image\n"
     ]
    },
    {
     "data": {
      "text/plain": [
       "<matplotlib.image.AxesImage at 0x13f592690>"
      ]
     },
     "execution_count": 111,
     "metadata": {},
     "output_type": "execute_result"
    }
   ],
   "source": [
    "hdu = get_vt_img()\n",
    "wcs = WCS(hdu.header)\n",
    "fig = plt.figure()\n",
    "ax = fig.add_subplot(111, projection=wcs)\n",
    "vmin, vmax = ZScaleInterval().get_limits(hdu.data)\n",
    "\n",
    "ax.imshow(hdu.data, origin='lower', cmap='viridis', vmin=vmin, vmax=vmax)"
   ]
  },
  {
   "cell_type": "markdown",
   "id": "f03158e2",
   "metadata": {},
   "source": [
    "### This method doesn't work\n",
    "It fills aligned data with NaN"
   ]
  },
  {
   "cell_type": "code",
   "execution_count": 117,
   "id": "a0fd52bd",
   "metadata": {},
   "outputs": [
    {
     "name": "stdout",
     "output_type": "stream",
     "text": [
      "2025-02-06 17:50:25 -     INFO - reproject.common - [common.py:167 - _reproject_dispatcher] - Calling _reproject_full in non-dask mode\n",
      "2025-02-06 17:50:25 -     INFO - reproject.common - [common.py:167 - _reproject_dispatcher] - Calling _reproject_full in non-dask mode\n"
     ]
    },
    {
     "data": {
      "text/plain": [
       "<matplotlib.image.AxesImage at 0x13f628230>"
      ]
     },
     "execution_count": 117,
     "metadata": {},
     "output_type": "execute_result"
    }
   ],
   "source": [
    "fig = plt.figure()\n",
    "\n",
    "# Create a new WCS with North up (align to a standard celestial projection)\n",
    "new_wcs = wcs.deepcopy()\n",
    "new_wcs.wcs.pc = [[1, 0], [0, 1]]  # Identity matrix aligns North to up\n",
    "\n",
    "# Reproject the image to the new aligned WCS\n",
    "aligned_data, footprint = reproject_interp(hdu, new_wcs)\n",
    "\n",
    "ax = fig.add_subplot(111, projection=new_wcs)\n",
    "\n",
    "ax.imshow(aligned_data, origin='lower', cmap='viridis', vmin=vmin, vmax=vmax)"
   ]
  },
  {
   "cell_type": "markdown",
   "id": "e142bf5e",
   "metadata": {},
   "source": [
    "### This methods works but not sure the image is rotated in the right way"
   ]
  },
  {
   "cell_type": "code",
   "execution_count": 119,
   "id": "89ef62fb",
   "metadata": {},
   "outputs": [
    {
     "data": {
      "text/plain": [
       "array([[-6.32599186e-06, -2.11957101e-04],\n",
       "       [-2.11951679e-04,  6.31373352e-06]])"
      ]
     },
     "execution_count": 119,
     "metadata": {},
     "output_type": "execute_result"
    }
   ],
   "source": [
    "cd_matrix = wcs.wcs.cd\n",
    "cd_matrix"
   ]
  },
  {
   "cell_type": "code",
   "execution_count": 137,
   "id": "6b24fc48",
   "metadata": {},
   "outputs": [
    {
     "name": "stdout",
     "output_type": "stream",
     "text": [
      "CD Matrix Determinant: -4.50e-08\n"
     ]
    }
   ],
   "source": [
    "det_cd = np.linalg.det(cd_matrix)\n",
    "print(f\"CD Matrix Determinant: {det_cd:.2e}\")"
   ]
  },
  {
   "cell_type": "code",
   "execution_count": 141,
   "id": "e43ba075",
   "metadata": {},
   "outputs": [
    {
     "data": {
      "text/plain": [
       "(np.float64(-91.70956450551841), np.float64(88.29043549448159))"
      ]
     },
     "execution_count": 141,
     "metadata": {},
     "output_type": "execute_result"
    }
   ],
   "source": [
    "\n",
    "# Compute the position angle (North offset)\n",
    "theta = np.arctan2(cd_matrix[1, 0], cd_matrix[0, 0]) * 180 / np.pi  # Convert to degrees\n",
    "theta2 = np.arctan(cd_matrix[1, 0]/cd_matrix[0, 0]) * 180 / np.pi  # Convert to degrees\n",
    "\n",
    "theta, theta2"
   ]
  },
  {
   "cell_type": "code",
   "execution_count": 122,
   "id": "3a442271",
   "metadata": {},
   "outputs": [],
   "source": [
    "from scipy.ndimage import rotate\n",
    "# Rotate the image to correct North alignment\n",
    "aligned_data = rotate(hdu.data, -theta, reshape=False)\n",
    "\n",
    "# Update WCS (reset rotation)\n",
    "wcs.wcs.pc = [[1, 0], [0, 1]]  # Identity matrix"
   ]
  },
  {
   "cell_type": "code",
   "execution_count": 123,
   "id": "f17f6c69",
   "metadata": {},
   "outputs": [
    {
     "data": {
      "text/plain": [
       "<matplotlib.image.AxesImage at 0x13f680d10>"
      ]
     },
     "execution_count": 123,
     "metadata": {},
     "output_type": "execute_result"
    }
   ],
   "source": [
    "fig = plt.figure()\n",
    "\n",
    "ax = fig.add_subplot(111, projection=wcs)\n",
    "\n",
    "ax.imshow(aligned_data, origin='lower', cmap='viridis', vmin=vmin, vmax=vmax)"
   ]
  },
  {
   "cell_type": "markdown",
   "id": "bc04eb26",
   "metadata": {},
   "source": [
    "### Function to rotate image"
   ]
  },
  {
   "cell_type": "code",
   "execution_count": 10,
   "id": "4656d668",
   "metadata": {},
   "outputs": [],
   "source": [
    "def align_image_north(hdu):\n",
    "    # Get the WCS\n",
    "    wcs = WCS(hdu.header)\n",
    "\n",
    "    # Compute the position angle (North offset)\n",
    "    cd_matrix = wcs.wcs.cd\n",
    "    theta = np.arctan2(cd_matrix[1, 0], cd_matrix[0, 0]) * 180 / np.pi  # Convert to degrees\n",
    "\n",
    "    # Rotate the image to correct North alignment\n",
    "    aligned_data = rotate(hdu.data, theta-180, reshape=False)\n",
    "\n",
    "    # Update WCS (reset rotation)\n",
    "    wcs.wcs.pc = [[1, 0], [0, 1]]  # Identity matrix\n",
    "\n",
    "    return aligned_data, wcs\n",
    "\n",
    "def align_image_north2(hdu):\n",
    "    # Get the WCS\n",
    "    wcs = WCS(hdu.header)\n",
    "\n",
    "    # Compute the position angle (North offset)\n",
    "    cd_matrix = wcs.wcs.cd\n",
    "    theta = np.arctan2(cd_matrix[1, 0], cd_matrix[0, 0]) * 180 / np.pi  # Convert to degrees\n",
    "\n",
    "    # Rotate the image to correct North alignment\n",
    "    aligned_data = rotate(hdu.data, -theta, reshape=False)\n",
    "\n",
    "    # Update WCS (reset rotation)\n",
    "    wcs.wcs.pc = [[1, 0], [0, 1]]  # Identity matrix\n",
    "\n",
    "    return aligned_data, wcs"
   ]
  },
  {
   "cell_type": "markdown",
   "id": "d8a4ef1a",
   "metadata": {},
   "source": [
    "## get rotation angle"
   ]
  },
  {
   "cell_type": "code",
   "execution_count": 17,
   "id": "24574553",
   "metadata": {},
   "outputs": [
    {
     "name": "stdout",
     "output_type": "stream",
     "text": [
      "[[ 0.70710678 -0.70710678]\n",
      " [ 0.70710678  0.70710678]], Rotation Angle: 45.00°\n"
     ]
    }
   ],
   "source": [
    "import numpy as np\n",
    "\n",
    "def extract_rotation_angle(R):\n",
    "    \"\"\"Extract the rotation angle theta from a 2D rotation matrix.\"\"\"\n",
    "    theta = np.arctan2(R[1, 0], R[0, 0])  # arctan2(sinθ, cosθ)\n",
    "    return np.degrees(theta)  # Convert to degrees\n",
    "\n",
    "# Example Rotation Matrix for 45° (counterclockwise)\n",
    "R = np.array([\n",
    "    [np.cos(np.radians(45)), -np.sin(np.radians(45))],\n",
    "    [np.sin(np.radians(45)),  np.cos(np.radians(45))]\n",
    "])\n",
    "\n",
    "theta = extract_rotation_angle(R)\n",
    "print(f\"{R}, Rotation Angle: {theta:.2f}°\")  # Output: 45.00°"
   ]
  },
  {
   "cell_type": "code",
   "execution_count": 18,
   "id": "aa2e9277",
   "metadata": {},
   "outputs": [
    {
     "data": {
      "text/plain": [
       "array([[-6.32599186e-06, -2.11957101e-04],\n",
       "       [-2.11951679e-04,  6.31373352e-06]])"
      ]
     },
     "execution_count": 18,
     "metadata": {},
     "output_type": "execute_result"
    }
   ],
   "source": [
    "cd_matrix"
   ]
  },
  {
   "cell_type": "code",
   "execution_count": 24,
   "id": "b4d198e3",
   "metadata": {},
   "outputs": [
    {
     "name": "stdout",
     "output_type": "stream",
     "text": [
      "North PA: 178.29°\n",
      "East PA: 88.29°\n"
     ]
    }
   ],
   "source": [
    "import numpy as np\n",
    "from astropy.io import fits\n",
    "\n",
    "def get_north_east_angles(header):\n",
    "    \"\"\"Extract the North and East position angles from a FITS CD matrix.\n",
    "    \n",
    "    This returns the angle between the North and +X axis.\n",
    "    \"\"\"\n",
    "\n",
    "    # Extract CD matrix values (or use PC if CD is not available)\n",
    "    cd_matrix = np.array([\n",
    "        [header.get(\"CD1_1\", 1), header.get(\"CD1_2\", 0)],\n",
    "        [header.get(\"CD2_1\", 0), header.get(\"CD2_2\", 1)]\n",
    "    ])\n",
    "    \n",
    "    # Compute angles\n",
    "    theta_north = np.arctan2(cd_matrix[1,1], cd_matrix[0,1]) * 180 / np.pi  # North PA\n",
    "    theta_east = np.arctan2(cd_matrix[1,0], cd_matrix[0,0]) * 180 / np.pi  # East PA\n",
    "    theta_east = (theta_east + 180) % 360  # Ensure result is between 0-360°\n",
    "\n",
    "    return theta_north, theta_east\n",
    "\n",
    "# Example usage\n",
    "theta_N, theta_E = get_north_east_angles(hdu_vt.header)\n",
    "print(f\"North PA: {theta_N:.2f}°\")\n",
    "print(f\"East PA: {theta_E:.2f}°\")  # Should be 90° offset from North"
   ]
  },
  {
   "cell_type": "code",
   "execution_count": 37,
   "id": "585033b5",
   "metadata": {},
   "outputs": [
    {
     "name": "stdout",
     "output_type": "stream",
     "text": [
      "PRIMARY\n",
      "[[-1.  0.]\n",
      " [ 0.  1.]]\n",
      "-1.0\n",
      "0.0\n",
      "PRIMARY\n",
      "[[-6.32599186e-06 -2.11957101e-04]\n",
      " [-2.11951679e-04  6.31373352e-06]]\n",
      "-4.4964603987898585e-08\n",
      "88.29043549448159\n",
      "PRIMARY\n",
      "[[-7.27777778e-05  0.00000000e+00]\n",
      " [ 0.00000000e+00  7.27777778e-05]]\n",
      "-5.2966049382716104e-09\n",
      "0.0\n",
      "QIM1B_B0\n",
      "[[-0.00018527 -0.00010294]\n",
      " [ 0.00010294 -0.0001853 ]]\n",
      "4.4928520389463755e-08\n",
      "330.9425136306485\n",
      "QIM1B_R0\n",
      "[[-0.00018543  0.00010288]\n",
      " [ 0.00010281  0.00018538]]\n",
      "-4.495142155904157e-08\n",
      "330.99264589834786\n"
     ]
    }
   ],
   "source": [
    "def get_rotation_angle(wcs):\n",
    "    \"\"\"Extract the rotation angle from a FITS CD matrix.\n",
    "    \n",
    "    This returns the angle between the North and +X axis.\n",
    "    It can be used to align the image North\n",
    "    by applying a counterclockwise rotation of the returned angle.\n",
    "    \"\"\"\n",
    "    # Extract rotation matrix values (or use PC if CD is not available)\n",
    "    if hasattr(wcs.wcs, \"cd\"):\n",
    "        rot_matrix = wcs.wcs.cd\n",
    "    elif hasattr(wcs.wcs, \"pc\"):\n",
    "        rot_matrix = wcs.wcs.pc\n",
    "    else:\n",
    "        raise ValueError(\"Could not find rotation matrix in wcs\")\n",
    "    print(rot_matrix)\n",
    "    print(np.linalg.det(rot_matrix))\n",
    "    # Compute angle\n",
    "    theta = np.arctan2(rot_matrix[1,0], rot_matrix[0,0]) * 180 / np.pi\n",
    "    theta = (theta + 180) % 360  # Ensure result is between 0-360°\n",
    "\n",
    "    return theta\n",
    "for hdu in (hdu_ps1, hdu_vt, hdu_ls, hdu_qimb0, hdu_qimr0):\n",
    "    print(hdu.name)\n",
    "    with warnings.catch_warnings(): \n",
    "        warnings.simplefilter(\"ignore\")\n",
    "        print(get_rotation_angle(WCS(hdu.header)))"
   ]
  },
  {
   "cell_type": "code",
   "execution_count": 42,
   "id": "70777264",
   "metadata": {},
   "outputs": [
    {
     "data": {
      "text/plain": [
       "array([[-0.00018527, -0.00010294],\n",
       "       [ 0.00010294,  0.0001853 ]])"
      ]
     },
     "execution_count": 42,
     "metadata": {},
     "output_type": "execute_result"
    }
   ],
   "source": [
    "wcs.wcs.cd[1,1] = -wcs.wcs.cd[1,1]\n",
    "wcs.wcs.cd"
   ]
  },
  {
   "cell_type": "code",
   "execution_count": 36,
   "id": "0a118630",
   "metadata": {},
   "outputs": [
    {
     "name": "stdout",
     "output_type": "stream",
     "text": [
      "Filename: /Users/jp279903/Desktop/qimb0.fits\n",
      "No.    Name      Ver    Type      Cards   Dimensions   Format\n",
      "  0  PRIMARY       1 PrimaryHDU       4   ()      \n",
      "  1  QIM1B_B0      1 ImageHDU        71   (461, 461)   int16   \n"
     ]
    }
   ],
   "source": [
    "hdu =fits.open( \"~/Desktop/qimb0.fits\")\n",
    "hdu.info()"
   ]
  },
  {
   "cell_type": "code",
   "execution_count": 34,
   "id": "ff3cfbb4",
   "metadata": {},
   "outputs": [],
   "source": [
    "hdu_qimr0.writeto(\"~/Desktop/qimr0.fits\")"
   ]
  },
  {
   "cell_type": "code",
   "execution_count": 27,
   "id": "805fa73a",
   "metadata": {},
   "outputs": [
    {
     "name": "stdout",
     "output_type": "stream",
     "text": [
      "PRIMARY\n",
      "WCS Keywords\n",
      "\n",
      "Number of WCS axes: 2\n",
      "CTYPE : 'RA---TAN' 'DEC--TAN' \n",
      "CRVAL : np.float64(83.4146347045972) np.float64(-25.9999999999992) \n",
      "CRPIX : np.float64(10329.5) np.float64(-9018.5) \n",
      "PC1_1 PC1_2  : np.float64(-1.0) np.float64(0.0) \n",
      "PC2_1 PC2_2  : np.float64(0.0) np.float64(1.0) \n",
      "CDELT : np.float64(6.94444461259988e-05) np.float64(6.94444461259988e-05) \n",
      "NAXIS : 1320  1320\n",
      "PRIMARY\n",
      "WCS Keywords\n",
      "\n",
      "Number of WCS axes: 2\n",
      "CTYPE : 'RA---TAN' 'DEC--TAN' \n",
      "CRVAL : np.float64(84.1409802420383) np.float64(-25.3339676199326) \n",
      "CRPIX : np.float64(1064.09501787886) np.float64(1093.08677603824) \n",
      "CD1_1 CD1_2  : np.float64(-6.3259918584161e-06) np.float64(-0.00021195710077099) \n",
      "CD2_1 CD2_2  : np.float64(-0.00021195167888991) np.float64(6.31373352091863e-06) \n",
      "NAXIS : 2048  2048\n",
      "PRIMARY\n",
      "WCS Keywords\n",
      "\n",
      "Number of WCS axes: 2\n",
      "CTYPE : 'RA---TAN' 'DEC--TAN' \n",
      "CRVAL : np.float64(113.5004) np.float64(32.3762670333333) \n",
      "CRPIX : np.float64(504.0) np.float64(504.0) \n",
      "CD1_1 CD1_2  : np.float64(-7.27777777777778e-05) np.float64(0.0) \n",
      "CD2_1 CD2_2  : np.float64(0.0) np.float64(7.27777777777778e-05) \n",
      "NAXIS : 1007  1007\n",
      "QIM1B_B0\n",
      "WCS Keywords\n",
      "\n",
      "Number of WCS axes: 2\n",
      "CTYPE : 'RA---TAN' 'DEC--TAN' \n",
      "CRVAL : np.float64(113.4648304) np.float64(32.3524651000001) \n",
      "CRPIX : np.float64(301.0) np.float64(399.0) \n",
      "CD1_1 CD1_2  : np.float64(-0.00018527262369525) np.float64(-0.00010294425155319) \n",
      "CD2_1 CD2_2  : np.float64(0.000102941432478439) np.float64(-0.00018530148159195) \n",
      "NAXIS : 461  461\n",
      "QIM1B_R0\n",
      "WCS Keywords\n",
      "\n",
      "Number of WCS axes: 2\n",
      "CTYPE : 'RA---TAN' 'DEC--TAN' \n",
      "CRVAL : np.float64(113.4646805) np.float64(32.3531617000001) \n",
      "CRPIX : np.float64(301.0) np.float64(62.0) \n",
      "CD1_1 CD1_2  : np.float64(-0.00018542506191106) np.float64(0.000102883100708079) \n",
      "CD2_1 CD2_2  : np.float64(0.000102813905040809) np.float64(0.000185377358692886) \n",
      "NAXIS : 461  461\n"
     ]
    }
   ],
   "source": [
    "import warnings\n",
    "with warnings.catch_warnings():\n",
    "    warnings.simplefilter(\"ignore\")\n",
    "    for hdu in (hdu_ps1, hdu_vt, hdu_ls, hdu_qimb0, hdu_qimr0):\n",
    "\n",
    "        print(hdu.name)\n",
    "        print(WCS(hdu))"
   ]
  },
  {
   "cell_type": "code",
   "execution_count": 70,
   "id": "b940ad94",
   "metadata": {},
   "outputs": [
    {
     "data": {
      "text/plain": [
       "-88.28910462482438"
      ]
     },
     "execution_count": 70,
     "metadata": {},
     "output_type": "execute_result"
    }
   ],
   "source": [
    "# header = hdu2.header\n",
    "wcs = WCS(header)\n",
    "phi = header.get(\"PHI\")\n",
    "90 - phi"
   ]
  },
  {
   "cell_type": "code",
   "execution_count": 97,
   "id": "f33e5cc7",
   "metadata": {},
   "outputs": [
    {
     "name": "stdout",
     "output_type": "stream",
     "text": [
      "2025-02-08 10:08:44 -  WARNING - astropy - [logger.py:235 - _showwarning] - FITSFixedWarning: TSTART = / null value \n",
      "a floating-point value was expected.\n"
     ]
    },
    {
     "name": "stdout",
     "output_type": "stream",
     "text": [
      "2025-02-08 10:08:44 -  WARNING - astropy - [logger.py:235 - _showwarning] - FITSFixedWarning: TSTART = / null value \n",
      "a floating-point value was expected.\n",
      "2025-02-08 10:08:44 -  WARNING - astropy - [logger.py:235 - _showwarning] - FITSFixedWarning: TSTOP = / null value \n",
      "a floating-point value was expected.\n",
      "2025-02-08 10:08:44 -  WARNING - astropy - [logger.py:235 - _showwarning] - FITSFixedWarning: TSTOP = / null value \n",
      "a floating-point value was expected.\n",
      "2025-02-08 10:08:45 -  WARNING - astropy - [logger.py:235 - _showwarning] - FITSFixedWarning: RADECSYS= 'FK5 ' \n",
      "the RADECSYS keyword is deprecated, use RADESYSa.\n",
      "2025-02-08 10:08:45 -  WARNING - astropy - [logger.py:235 - _showwarning] - FITSFixedWarning: RADECSYS= 'FK5 ' \n",
      "the RADECSYS keyword is deprecated, use RADESYSa.\n",
      "2025-02-08 10:08:45 -  WARNING - astropy - [logger.py:235 - _showwarning] - FITSFixedWarning: 'datfix' made the change 'Set DATEREF to '2017-01-01' from MJDREF.\n",
      "Set MJD-OBS to 60661.709230 from DATE-OBS.\n",
      "Set MJD-END to 60661.710388 from DATE-END'.\n",
      "2025-02-08 10:08:45 -  WARNING - astropy - [logger.py:235 - _showwarning] - FITSFixedWarning: 'datfix' made the change 'Set DATEREF to '2017-01-01' from MJDREF.\n",
      "Set MJD-OBS to 60661.709230 from DATE-OBS.\n",
      "Set MJD-END to 60661.710388 from DATE-END'.\n",
      "2025-02-08 10:08:45 -     INFO - reproject.common - [common.py:167 - _reproject_dispatcher] - Calling _reproject_full in non-dask mode\n",
      "2025-02-08 10:08:45 -     INFO - reproject.common - [common.py:167 - _reproject_dispatcher] - Calling _reproject_full in non-dask mode\n"
     ]
    },
    {
     "name": "stderr",
     "output_type": "stream",
     "text": [
      "WARNING: FITSFixedWarning: TSTART = / null value \n",
      "a floating-point value was expected. [astropy.wcs.wcs]\n",
      "WARNING: FITSFixedWarning: TSTOP = / null value \n",
      "a floating-point value was expected. [astropy.wcs.wcs]\n",
      "WARNING: FITSFixedWarning: RADECSYS= 'FK5 ' \n",
      "the RADECSYS keyword is deprecated, use RADESYSa. [astropy.wcs.wcs]\n",
      "WARNING: FITSFixedWarning: 'datfix' made the change 'Set DATEREF to '2017-01-01' from MJDREF.\n",
      "Set MJD-OBS to 60661.709230 from DATE-OBS.\n",
      "Set MJD-END to 60661.710388 from DATE-END'. [astropy.wcs.wcs]\n"
     ]
    },
    {
     "ename": "",
     "evalue": "",
     "output_type": "error",
     "traceback": [
      "\u001b[1;31mThe Kernel crashed while executing code in the current cell or a previous cell. \n",
      "\u001b[1;31mPlease review the code in the cell(s) to identify a possible cause of the failure. \n",
      "\u001b[1;31mClick <a href='https://aka.ms/vscodeJupyterKernelCrash'>here</a> for more info. \n",
      "\u001b[1;31mView Jupyter <a href='command:jupyter.viewOutput'>log</a> for further details."
     ]
    }
   ],
   "source": [
    "import numpy as np\n",
    "import matplotlib.pyplot as plt\n",
    "from astropy.io import fits\n",
    "from astropy.wcs import WCS\n",
    "from reproject import reproject_interp\n",
    "from scipy.ndimage import rotate\n",
    "\n",
    "def visualize_alignment(hdu, zscale=True):\n",
    "    \"\"\"Load a FITS image, align it so North is up, and visualize before/after.\"\"\"\n",
    "    \n",
    "    original_data = hdu.data\n",
    "    original_wcs = WCS(hdu)\n",
    "    hdu2 = rotate_wcs(hdu, 45)\n",
    "    aligned_data = hdu2.data\n",
    "    aligned_wcs = WCS(hdu2)\n",
    "    # Plot original and aligned images\n",
    "    if zscale:\n",
    "        vmin, vmax = ZScaleInterval().get_limits(original_data)\n",
    "    else:\n",
    "        vmin = 0\n",
    "        vmax=1\n",
    "    fig = plt.figure(figsize=(10, 5), tight_layout=True)\n",
    "    ax1 = fig.add_subplot(1, 2, 1, projection=original_wcs)\n",
    "    # Original image\n",
    "    ax1.imshow(original_data, origin=\"lower\", cmap=\"gray\", \n",
    "               vmin=vmin, vmax=vmax,\n",
    "               )\n",
    "    ax1.set_title(\"Original Image (unrotated)\")\n",
    "\n",
    "    ax2 = fig.add_subplot(1, 2, 2, projection=aligned_wcs)\n",
    "    # Manually rotated image\n",
    "    ax2.imshow(aligned_data, origin=\"lower\", cmap=\"gray\", \n",
    "               vmin=vmin, vmax=vmax,\n",
    "               )\n",
    "    ax2.set_title(f\"Manually Rotated ({theta:.2f}°)\")\n",
    "\n",
    "    # Reprojected image\n",
    "    # axes[2].imshow(reprojected_data, origin=\"lower\", cmap=\"gray\", vmin=vmin, vmax=vmax)\n",
    "    # axes[2].set_title(\"Reprojected (North Up)\")\n",
    "\n",
    "    plt.show()\n",
    "hdu_ls = fits.open(\"~/Desktop/ls_img.fits\")[0]\n",
    "hdu_qim = fits.open(\"~/.celexta/cache/svom/sb25020504/qim1b_vt.fits\")[3]\n",
    "if hdu_qim.name.split(\"_\")[-1][0] == \"R\":\n",
    "    hdu_qim.data = hdu_qim.data.T\n",
    "visualize_alignment(hdu2,\n",
    "                    #  zscale=False,\n",
    "                     )"
   ]
  },
  {
   "cell_type": "code",
   "execution_count": null,
   "id": "a74d4c8c",
   "metadata": {},
   "outputs": [
    {
     "name": "stdout",
     "output_type": "stream",
     "text": [
      "Filename: /Users/jp279903/.celexta/cache/svom/sb25020504/qim1b_vt.fits\n",
      "No.    Name      Ver    Type      Cards   Dimensions   Format\n",
      "  0  PrimaryHDU    1 PrimaryHDU     107   ()      \n",
      "  1  QIM1B_B0      1 ImageHDU        71   (461, 461)   int16   \n",
      "  2  QIM1B_B1      1 ImageHDU        71   (461, 461)   int16   \n",
      "  3  QIM1B_R0      1 ImageHDU        71   (461, 461)   int16   \n",
      "  4  QIM1B_R1      1 ImageHDU        71   (461, 461)   int16   \n"
     ]
    }
   ],
   "source": [
    "hdul_qim = fits.open(\"~/.celexta/cache/svom/sb25020504/qim1b_vt.fits\")\n",
    "hdul_qim.info()\n",
    "ls_img = fits.open(\"/Users/jp279903/.zhunter/cache/download/url/f6d9c0df2702dd2242b7ea63239ce493/contents\")\n",
    "ls_img.info()"
   ]
  },
  {
   "cell_type": "markdown",
   "id": "e73ddbe7",
   "metadata": {},
   "source": [
    "## Rotate WCS AND data"
   ]
  },
  {
   "cell_type": "code",
   "execution_count": 95,
   "id": "0b435009",
   "metadata": {},
   "outputs": [],
   "source": [
    "def align_image_north_old(hdu):\n",
    "    # Load the image and WCS\n",
    "    wcs = WCS(hdu.header)\n",
    "    original_data = hdu.data\n",
    "    # angle between +X and N?\n",
    "    phi = hdu.header.get(\"PHI\", None)\n",
    "    if phi is not None:\n",
    "        log.debug(\"Using PHI information\")\n",
    "        # Add 90 degrees because we align +Y to north\n",
    "        theta = 90-phi\n",
    "    else:\n",
    "        # Compute rotation angle from WCS CD matrix\n",
    "        if hasattr(wcs.wcs, \"cd\"):\n",
    "            log.debug(\"Using CD matrix\")\n",
    "            rot_matrix = wcs.wcs.cd\n",
    "        else:\n",
    "            log.debug(\"Using PC matrix\")\n",
    "            rot_matrix = wcs.wcs.pc\n",
    "\n",
    "        theta = np.arctan2(rot_matrix[1, 0], rot_matrix[0, 0]) * 180 / np.pi  # Convert to degrees\n",
    "\n",
    "    if theta == 0:\n",
    "        aligned_data = original_data\n",
    "    else:\n",
    "        # Rotate image counterclockwise (as defined by FITS standard)\n",
    "        aligned_data = rotate(original_data, -theta, reshape=False)\n",
    "\n",
    "    return aligned_data\n",
    "\n",
    "def rotate_wcs(hdu, theta_deg):\n",
    "    \"\"\"Rotate the WCS of a FITS image by theta degrees.\"\"\"\n",
    "    # Load the FITS file\n",
    "    wcs = WCS(hdu.header)\n",
    "\n",
    "    # Convert angle to radians\n",
    "    theta_rad = np.radians(theta_deg)\n",
    "\n",
    "    # Rotation matrix\n",
    "    R = np.array([\n",
    "        [np.cos(theta_rad), -np.sin(theta_rad)],\n",
    "        [np.sin(theta_rad),  np.cos(theta_rad)]\n",
    "    ])\n",
    "\n",
    "    # Extract the existing CD (or PC) matrix\n",
    "    cd_matrix = np.array([\n",
    "        [wcs.wcs.cd[0,0], wcs.wcs.cd[0,1]],\n",
    "        [wcs.wcs.cd[1,0], wcs.wcs.cd[1,1]]\n",
    "    ])\n",
    "\n",
    "    # Apply rotation: new_CD = R * old_CD\n",
    "    new_cd_matrix = np.dot(R, cd_matrix)\n",
    "\n",
    "    # Update WCS with the new CD matrix\n",
    "    wcs.wcs.cd = new_cd_matrix\n",
    "\n",
    "    # Compute the expanded shape to fit the full rotated image\n",
    "    h, w = hdu.data.shape\n",
    "    diag = int(np.ceil(np.sqrt(h**2 + w**2)))  # Diagonal size to fit full rotation\n",
    "    new_shape = (diag, diag)\n",
    "\n",
    "    # Compute center shift to preserve the same center\n",
    "    old_center = np.array([w / 2, h / 2])  # Original center in pixels\n",
    "    new_center = np.array([diag / 2, diag / 2])  # New center in pixels\n",
    "\n",
    "    # Adjust WCS reference pixel to match new center\n",
    "    shift = new_center - old_center\n",
    "    wcs.wcs.crpix += shift  # Shift CRPIX to maintain alignment\n",
    "\n",
    "    # Reproject the image with the expanded shape\n",
    "    reprojected_data, _ = reproject_interp(hdu, wcs, shape_out=new_shape)\n",
    "    # # Update data\n",
    "    # reprojected_data = reproject_interp(hdu, wcs, \n",
    "    #                                        return_footprint=False,\n",
    "    #                                     #    shape_out=hdu.data.shape,\n",
    "    #                                     )\n",
    "    # Save the rotated WCS back to the FITS header\n",
    "    hdu2 = hdu.copy()\n",
    "    hdu2.data = reprojected_data\n",
    "    hdu2.header.update(wcs.to_header())\n",
    "\n",
    "    print(f\"Rotated WCS and reprojected image by {theta_deg}°\")\n",
    "    return hdu2"
   ]
  },
  {
   "cell_type": "code",
   "execution_count": null,
   "id": "9e4dd2d1",
   "metadata": {},
   "outputs": [],
   "source": []
  },
  {
   "cell_type": "code",
   "execution_count": 28,
   "id": "3e17688d",
   "metadata": {},
   "outputs": [],
   "source": [
    "def say_hello(event):\n",
    "    print(f\"Hello ! {event}\")\n",
    "    art = event.artist\n",
    "    print(\"I am an artist\", art)\n",
    "    art.set_linestyle(\"dashed\")\n",
    "    ind = event.ind[0]  # Get the index of the clicked point\n",
    "    colors = scatter.get_facecolors()\n",
    "    colors[ind] = [1, 0, 0, 1]  # Change color to red\n",
    "    scatter.set_edgecolors('black')  # Ensure all points have visible edges\n",
    "    scatter.set_sizes([200 if i == ind else 100 for i in range(len(x))])  # Enlarge selected point\n",
    "    fig.canvas.draw()\n"
   ]
  },
  {
   "cell_type": "code",
   "execution_count": 32,
   "id": "e0ce77cb",
   "metadata": {},
   "outputs": [],
   "source": [
    "from matplotlib.backends.backend_qt5agg import FigureCanvasQTAgg as FigureCanvas\n",
    "cv = FigureCanvas()"
   ]
  },
  {
   "cell_type": "code",
   "execution_count": 29,
   "id": "7ca5d66d",
   "metadata": {},
   "outputs": [
    {
     "data": {
      "text/plain": [
       "14"
      ]
     },
     "execution_count": 29,
     "metadata": {},
     "output_type": "execute_result"
    },
    {
     "name": "stdout",
     "output_type": "stream",
     "text": [
      "Hello ! <matplotlib.backend_bases.PickEvent object at 0x303cd8a40>\n",
      "I am an artist <matplotlib.collections.PathCollection object at 0x303cd4290>\n"
     ]
    },
    {
     "name": "stderr",
     "output_type": "stream",
     "text": [
      "Traceback (most recent call last):\n",
      "  File \"/opt/miniconda3/envs/celexta_dev/lib/python3.12/site-packages/matplotlib/cbook.py\", line 298, in process\n",
      "    func(*args, **kwargs)\n",
      "  File \"/var/folders/w0/p4yn239n5zn2zbpmyn8hbtcjh2rltm/T/ipykernel_51102/2396062776.py\", line 8, in say_hello\n",
      "    colors[ind] = [1, 0, 0, 1]  # Change color to red\n",
      "    ~~~~~~^^^^^\n",
      "IndexError: index 0 is out of bounds for axis 0 with size 0\n"
     ]
    }
   ],
   "source": [
    "import matplotlib.pyplot as plt\n",
    "import numpy as np\n",
    "fig, ax = plt.subplots()\n",
    "scatter = ax.scatter(tab[\"RA\"], tab[\"DEC\"], picker=True, facecolor=\"none\", edgecolor=\"black\")\n",
    "fig.canvas.mpl_connect(\"pick_event\", say_hello)"
   ]
  },
  {
   "cell_type": "code",
   "execution_count": 17,
   "id": "73436c59",
   "metadata": {},
   "outputs": [],
   "source": [
    "# scatter.set_edgecolors(\"red\")\n",
    "scatter.set_visible(False)\n"
   ]
  },
  {
   "cell_type": "code",
   "execution_count": 30,
   "id": "6570d565",
   "metadata": {},
   "outputs": [
    {
     "ename": "NameError",
     "evalue": "name 'toolbar' is not defined",
     "output_type": "error",
     "traceback": [
      "\u001b[0;31m---------------------------------------------------------------------------\u001b[0m",
      "\u001b[0;31mNameError\u001b[0m                                 Traceback (most recent call last)",
      "Cell \u001b[0;32mIn[30], line 1\u001b[0m\n\u001b[0;32m----> 1\u001b[0m \u001b[43mtoolbar\u001b[49m\n",
      "\u001b[0;31mNameError\u001b[0m: name 'toolbar' is not defined"
     ]
    }
   ],
   "source": [
    "toolbar"
   ]
  },
  {
   "cell_type": "code",
   "execution_count": 21,
   "id": "f53393e5",
   "metadata": {},
   "outputs": [
    {
     "data": {
      "text/plain": [
       "astropy.visualization.wcsaxes.patches.SphericalCircle"
      ]
     },
     "execution_count": 21,
     "metadata": {},
     "output_type": "execute_result"
    }
   ],
   "source": [
    "np.random.choice([SphericalCircle,2])"
   ]
  },
  {
   "cell_type": "markdown",
   "id": "0d59f89b",
   "metadata": {},
   "source": [
    "# Test ImageFrame with MWE"
   ]
  },
  {
   "cell_type": "markdown",
   "id": "f9e689f8",
   "metadata": {},
   "source": [
    "## Maptlotlib"
   ]
  },
  {
   "cell_type": "code",
   "execution_count": 3,
   "id": "9b9745d8",
   "metadata": {},
   "outputs": [],
   "source": [
    "from celexta.frames import ImageFrame\n",
    "from PyQt6.QtWidgets import QMainWindow\n",
    "from matplotlib.backends.backend_qt5agg import FigureCanvasQTAgg as FigureCanvas\n",
    "\n",
    "parent = QMainWindow()\n",
    "parent.canvas = FigureCanvas()\n",
    "parent.setCentralWidget(parent.canvas)\n",
    "parent.show()\n",
    "frame = ImageFrame(parent)"
   ]
  },
  {
   "cell_type": "code",
   "execution_count": 4,
   "id": "b5c7cb71",
   "metadata": {},
   "outputs": [
    {
     "name": "stdout",
     "output_type": "stream",
     "text": [
      "2025-02-08 07:19:18 -    DEBUG - celexta.examples - [examples.py: 93 - get_vt_img] - Getting VT image\n",
      "2025-02-08 07:19:18 -    DEBUG - celexta.examples - [examples.py: 93 - get_vt_img] - Getting VT image\n"
     ]
    }
   ],
   "source": [
    "\n",
    "im_data, wcs = generate_example_image()\n",
    "frame.display_image(im_data, wcs)\n"
   ]
  },
  {
   "cell_type": "code",
   "execution_count": 27,
   "id": "46ba6ce4",
   "metadata": {},
   "outputs": [
    {
     "data": {
      "text/plain": [
       "[-0.5, 2047.5, -0.5, 2047.5]"
      ]
     },
     "execution_count": 27,
     "metadata": {},
     "output_type": "execute_result"
    }
   ],
   "source": [
    "frame.img_display.get_extent()"
   ]
  },
  {
   "cell_type": "code",
   "execution_count": 32,
   "id": "312eba8a",
   "metadata": {},
   "outputs": [
    {
     "ename": "AttributeError",
     "evalue": "'WCS' object has no attribute 'header'",
     "output_type": "error",
     "traceback": [
      "\u001b[0;31m---------------------------------------------------------------------------\u001b[0m",
      "\u001b[0;31mAttributeError\u001b[0m                            Traceback (most recent call last)",
      "Cell \u001b[0;32mIn[32], line 1\u001b[0m\n\u001b[0;32m----> 1\u001b[0m \u001b[43mframe\u001b[49m\u001b[38;5;241;43m.\u001b[39;49m\u001b[43max\u001b[49m\u001b[38;5;241;43m.\u001b[39;49m\u001b[43mwcs\u001b[49m\u001b[38;5;241;43m.\u001b[39;49m\u001b[43mheader\u001b[49m\n",
      "\u001b[0;31mAttributeError\u001b[0m: 'WCS' object has no attribute 'header'"
     ]
    }
   ],
   "source": [
    "frame.ax.wcs.header"
   ]
  },
  {
   "cell_type": "code",
   "execution_count": 30,
   "id": "c019d04e",
   "metadata": {},
   "outputs": [
    {
     "data": {
      "text/plain": [
       "<SkyCoord (FK5: equinox=2000.0): (ra, dec) in deg\n",
       "    (84.15733348, -25.32600864)>"
      ]
     },
     "execution_count": 30,
     "metadata": {},
     "output_type": "execute_result"
    }
   ],
   "source": [
    "xmin, xmax, ymin, ymax = frame.img_display.get_extent()\n",
    "x_cen = (xmax+xmin)/2\n",
    "y_cen = (ymax+ymin)/2\n",
    "center = wcs.pixel_to_world(x_cen, y_cen)\n",
    "center\n"
   ]
  },
  {
   "cell_type": "code",
   "execution_count": 10,
   "id": "4001e36f",
   "metadata": {},
   "outputs": [],
   "source": [
    "frame.update_contrast_and_brightness(contrast=0.5, brightness=0.5)\n"
   ]
  },
  {
   "cell_type": "code",
   "execution_count": 5,
   "id": "3b96a00b",
   "metadata": {},
   "outputs": [
    {
     "name": "stdout",
     "output_type": "stream",
     "text": [
      "2025-02-02 19:36:47 -    DEBUG - celexta.mpl_widget - [mpl_widget.py:720 - _add_region] - Adding region to frame.\n"
     ]
    }
   ],
   "source": [
    "from celexta.regions import CircleRegion\n",
    "from astropy.coordinates import SkyCoord\n",
    "\n",
    "region = CircleRegion(SkyCoord(84.1409802420383, -25.3339676199326, unit=\"deg\"), 1 * u.arcmin)\n",
    "frame.add_region(region)\n"
   ]
  },
  {
   "cell_type": "code",
   "execution_count": 6,
   "id": "7caba78f",
   "metadata": {},
   "outputs": [
    {
     "name": "stdout",
     "output_type": "stream",
     "text": [
      "2025-02-02 19:28:53 -    DEBUG - celexta.mpl_widget - [mpl_widget.py:746 - remove_region] - Removing region from frame.\n"
     ]
    }
   ],
   "source": [
    "frame.remove_region(region)"
   ]
  },
  {
   "cell_type": "code",
   "execution_count": 7,
   "id": "403c867a",
   "metadata": {},
   "outputs": [
    {
     "name": "stdout",
     "output_type": "stream",
     "text": [
      "2025-02-02 19:28:53 -    DEBUG - celexta.mpl_widget - [mpl_widget.py:715 - _add_region] - Adding region to frame.\n"
     ]
    }
   ],
   "source": [
    "frame.add_region(region)\n"
   ]
  },
  {
   "cell_type": "code",
   "execution_count": 6,
   "id": "f28669c1",
   "metadata": {},
   "outputs": [
    {
     "name": "stdout",
     "output_type": "stream",
     "text": [
      "2025-02-02 19:36:53 -    DEBUG - celexta.mpl_widget - [mpl_widget.py:770 - update_region_aesthetics] - Updating region aesthetics.\n"
     ]
    }
   ],
   "source": [
    "region.update_aesthetics(color=\"red\")"
   ]
  },
  {
   "cell_type": "code",
   "execution_count": 7,
   "id": "98324774",
   "metadata": {},
   "outputs": [
    {
     "name": "stdout",
     "output_type": "stream",
     "text": [
      "2025-02-02 19:36:56 -    DEBUG - celexta.mpl_widget - [mpl_widget.py:759 - update_region_position] - Updating region position.\n",
      "2025-02-02 19:36:56 -    DEBUG - celexta.mpl_widget - [mpl_widget.py:720 - _add_region] - Adding region to frame.\n"
     ]
    }
   ],
   "source": [
    "region.update_position(center=SkyCoord(84.189, -25.309, unit=\"deg\"), radius=2 * u.arcmin)\n"
   ]
  },
  {
   "cell_type": "code",
   "execution_count": 10,
   "id": "a8e648d3",
   "metadata": {},
   "outputs": [],
   "source": [
    "frame.highlight_region(region)\n"
   ]
  },
  {
   "cell_type": "code",
   "execution_count": 11,
   "id": "75fdd264",
   "metadata": {},
   "outputs": [
    {
     "name": "stdout",
     "output_type": "stream",
     "text": [
      "2025-02-02 19:39:35 -     INFO - zhunter.catalogs - [catalogs.py: 21 - get_ls_image] - Trying to fetch r band image of size 1024 pixels from LSDR10\n"
     ]
    }
   ],
   "source": [
    "from zhunter.catalogs import get_ls_image\n",
    "im = get_ls_image(ra=84.189, dec=-25.309, size=1024)"
   ]
  },
  {
   "cell_type": "code",
   "execution_count": 15,
   "id": "c1b6d8df",
   "metadata": {},
   "outputs": [],
   "source": [
    "frame.display_image(im.data, WCS(im))\n"
   ]
  },
  {
   "cell_type": "markdown",
   "id": "643bdb72",
   "metadata": {},
   "source": [
    "## Pyqtgraph"
   ]
  },
  {
   "cell_type": "code",
   "execution_count": 35,
   "id": "09148469",
   "metadata": {},
   "outputs": [
    {
     "data": {
      "text/plain": [
       "<pyqtgraph.graphicsItems.ColorBarItem.ColorBarItem at 0x13feea3f0>"
      ]
     },
     "execution_count": 35,
     "metadata": {},
     "output_type": "execute_result"
    }
   ],
   "source": [
    "cb = pg.ColorBarItem()\n",
    "cb"
   ]
  },
  {
   "cell_type": "code",
   "execution_count": 39,
   "id": "5aade1b8",
   "metadata": {},
   "outputs": [],
   "source": [
    "cb.colorMap()"
   ]
  },
  {
   "cell_type": "code",
   "execution_count": 40,
   "id": "6463e48f",
   "metadata": {},
   "outputs": [
    {
     "data": {
      "text/plain": [
       "<pyqtgraph.widgets.HistogramLUTWidget.HistogramLUTWidget at 0x13feebcf0>"
      ]
     },
     "execution_count": 40,
     "metadata": {},
     "output_type": "execute_result"
    }
   ],
   "source": [
    "hlw = pg.HistogramLUTWidget()\n",
    "hlw"
   ]
  },
  {
   "cell_type": "code",
   "execution_count": null,
   "id": "6e8ae6b5",
   "metadata": {},
   "outputs": [
    {
     "data": {
      "text/plain": [
       "[]"
      ]
     },
     "execution_count": 47,
     "metadata": {},
     "output_type": "execute_result"
    }
   ],
   "source": [
    "for tick in hlw.item.gradient.listTicks():\n",
    "    tick.hide()\n"
   ]
  },
  {
   "cell_type": "code",
   "execution_count": 45,
   "id": "32c4b7e4",
   "metadata": {},
   "outputs": [
    {
     "ename": "AttributeError",
     "evalue": "'NoneType' object has no attribute 'getColors'",
     "output_type": "error",
     "traceback": [
      "\u001b[0;31m---------------------------------------------------------------------------\u001b[0m",
      "\u001b[0;31mAttributeError\u001b[0m                            Traceback (most recent call last)",
      "Cell \u001b[0;32mIn[45], line 1\u001b[0m\n\u001b[0;32m----> 1\u001b[0m \u001b[43mhlw\u001b[49m\u001b[38;5;241;43m.\u001b[39;49m\u001b[43mitem\u001b[49m\u001b[38;5;241;43m.\u001b[39;49m\u001b[43mgradient\u001b[49m\u001b[38;5;241;43m.\u001b[39;49m\u001b[43msetColorMap\u001b[49m\u001b[43m(\u001b[49m\u001b[43mcb\u001b[49m\u001b[38;5;241;43m.\u001b[39;49m\u001b[43mcolorMap\u001b[49m\u001b[43m(\u001b[49m\u001b[43m)\u001b[49m\u001b[43m)\u001b[49m\n",
      "File \u001b[0;32m/opt/miniconda3/envs/celexta_dev/lib/python3.12/site-packages/pyqtgraph/graphicsItems/GradientEditorItem.py:806\u001b[0m, in \u001b[0;36mGradientEditorItem.setColorMap\u001b[0;34m(self, cm)\u001b[0m\n\u001b[1;32m    804\u001b[0m \u001b[38;5;28;01mfor\u001b[39;00m t \u001b[38;5;129;01min\u001b[39;00m \u001b[38;5;28mlist\u001b[39m(\u001b[38;5;28mself\u001b[39m\u001b[38;5;241m.\u001b[39mticks\u001b[38;5;241m.\u001b[39mkeys()):\n\u001b[1;32m    805\u001b[0m     \u001b[38;5;28mself\u001b[39m\u001b[38;5;241m.\u001b[39mremoveTick(t, finish\u001b[38;5;241m=\u001b[39m\u001b[38;5;28;01mFalse\u001b[39;00m)\n\u001b[0;32m--> 806\u001b[0m colors \u001b[38;5;241m=\u001b[39m \u001b[43mcm\u001b[49m\u001b[38;5;241;43m.\u001b[39;49m\u001b[43mgetColors\u001b[49m(mode\u001b[38;5;241m=\u001b[39m\u001b[38;5;124m'\u001b[39m\u001b[38;5;124mqcolor\u001b[39m\u001b[38;5;124m'\u001b[39m)\n\u001b[1;32m    807\u001b[0m \u001b[38;5;28;01mfor\u001b[39;00m i \u001b[38;5;129;01min\u001b[39;00m \u001b[38;5;28mrange\u001b[39m(\u001b[38;5;28mlen\u001b[39m(cm\u001b[38;5;241m.\u001b[39mpos)):\n\u001b[1;32m    808\u001b[0m     x \u001b[38;5;241m=\u001b[39m cm\u001b[38;5;241m.\u001b[39mpos[i]\n",
      "\u001b[0;31mAttributeError\u001b[0m: 'NoneType' object has no attribute 'getColors'"
     ]
    }
   ],
   "source": [
    "hlw.item.gradient.setColorMap(cb.colorMap())"
   ]
  },
  {
   "cell_type": "code",
   "execution_count": 21,
   "id": "ad4e9b43",
   "metadata": {},
   "outputs": [
    {
     "name": "stdout",
     "output_type": "stream",
     "text": [
      "Filename: /Users/jp279903/.celexta/config/latest_session_data/Examples/vt_frame_img.fits\n",
      "No.    Name      Ver    Type      Cards   Dimensions   Format\n",
      "  0  PRIMARY       1 PrimaryHDU      96   (2048, 2048)   float64   \n"
     ]
    }
   ],
   "source": [
    "from astropy.io import fits\n",
    "hdul = fits.open('/Users/jp279903/.celexta/config/latest_session_data/Examples/vt_frame_img.fits')\n",
    "hdul.info()\n"
   ]
  },
  {
   "cell_type": "code",
   "execution_count": 24,
   "id": "3521ea1c",
   "metadata": {},
   "outputs": [],
   "source": [
    "import pyqtgraph as pg\n",
    "import numpy as np\n",
    "im = pg.ImageItem()\n",
    "im.setImage(np.ones((100, 100)))"
   ]
  },
  {
   "cell_type": "code",
   "execution_count": null,
   "id": "5257d10f",
   "metadata": {},
   "outputs": [],
   "source": [
    "from astropy.table import Table\n",
    "fname = \"/Users/jp279903/.celexta/config/latest_session_data/Examples/Test Candidate.ecsv\"\n",
    "tab = Table.read(fname)"
   ]
  },
  {
   "cell_type": "code",
   "execution_count": 32,
   "id": "a04bdd07",
   "metadata": {},
   "outputs": [
    {
     "data": {
      "text/plain": [
       "'viridis'"
      ]
     },
     "execution_count": 32,
     "metadata": {},
     "output_type": "execute_result"
    }
   ],
   "source": [
    "im.getColorMap().name"
   ]
  },
  {
   "cell_type": "code",
   "execution_count": 4,
   "id": "3795d199",
   "metadata": {},
   "outputs": [
    {
     "name": "stdout",
     "output_type": "stream",
     "text": [
      "Filename: /Users/jp279903/SVOM_pipeline/vtac/tests/data/QCANDI_VT.fits\n",
      "No.    Name      Ver    Type      Cards   Dimensions   Format\n",
      "  0  PrimaryHDU    1 PrimaryHDU      46   ()      \n",
      "  1  VT_ID_5       1 BinTableHDU     40   4R x 7C   [23A, D, D, D, D, D, D]   \n",
      "  2  VT_ID_99      1 BinTableHDU     40   4R x 7C   [23A, D, D, D, D, D, D]   \n",
      "  3  VT_ID_103     1 BinTableHDU     40   4R x 7C   [23A, D, D, D, D, D, D]   \n"
     ]
    }
   ],
   "source": [
    "hdul = fits.open(\"/Users/jp279903/SVOM_pipeline/vtac/tests/data/QCANDI_VT.fits\")\n",
    "hdul.info()\n"
   ]
  },
  {
   "cell_type": "code",
   "execution_count": 28,
   "id": "75c50adf",
   "metadata": {},
   "outputs": [
    {
     "data": {
      "text/plain": [
       "SIMPLE  =                    T / conforms to FITS standard                      \n",
       "BITPIX  =                    8 / array data type                                \n",
       "NAXIS   =                    0 / number of array dimensions                     \n",
       "EXTEND  =                    T                                                  \n",
       "EXTNAME = 'PrimaryHDU'                                                          \n",
       "ORIGIN  = 'FSC     '           / Science Center                                 \n",
       "TELESCOP= 'SVOM    '           / Official acronym for the mission               \n",
       "INSTRUME= 'VT      '           / Instrument acronym                             \n",
       "CREATOR = 'VTAC    '           / Pipeline that created or modified this file    \n",
       "CARD    = 'QCANDI_VT'          / Product card                                   \n",
       "PROGRAM = 'CoreProgram'        / Mission program                                \n",
       "PRDM_VER=                 1.12 / Product Data Model Version                     \n",
       "GLDM_VER=  / Global Data Model Version                                          \n",
       "PROC_VER=                    0 / Processing Version                             \n",
       "PIP_VER = '1.0.0   '           / Pipeline version                               \n",
       "DSTREAM = 'VHF     '           / Data stream                                    \n",
       "DATE    = '2023-11-06T16:02:47.550' / File creation or modification date (ISO 86\n",
       "TIMEREF = 'LOCAL   '           / Time reference frame                           \n",
       "TIMESYS = 'TT      '           / Time frame system                              \n",
       "TIMEUNIT= 's       '           / Time unit                                      \n",
       "MJDREFI =                57754 / integer portion in MJD for reference time      \n",
       "MJDREFF =       0.000800740741 / fractional portion of MJD for reference time   \n",
       "DATEREF = '2017-01-01T00:00:00.0' / Reference UTC time in ISO-8601              \n",
       "CLOCKCOR=                    T / Time corrected for any spacecraft clock drift  \n",
       "DP_LEVEL= 'Q2      '           / Data Product processing level                  \n",
       "DATE-BEG=  / Start time (ISO-8601 UTC)                                          \n",
       "DATE-END=  / Stop time (ISO-8601 UTC)                                           \n",
       "TSTART  =  / Start time (since TIMEREF)                                         \n",
       "TSTOP   =  / Stop time (since TIMEREF)                                          \n",
       "RADESYS = 'ICRS    '           / Celestial coordinate system                    \n",
       "TASKNAME=  / Task that created or modified this file                            \n",
       "TASSIGN = 'SATELLITE'          / Time assigned by clock                         \n",
       "CHECKSUM= 'eSC8hRB8eRB8eRB8'   / HDU checksum updated 2023-11-06T17:02:48       \n",
       "DATASUM = '0       '           / data unit checksum updated 2023-11-06T17:02:48 \n",
       "PROCTYPE= 'automatic'          / Type of pipeline that generated this file      \n",
       "OBS_ID  =           2566914149 / Observation Identifier                         \n",
       "OBS_NUM =                  101 / Observation number                             \n",
       "OBS_TYPE=                  153 / Observation type                               \n",
       "BURST_ID= 'sb23102401'         / Alert identifier                               \n",
       "CATALOGS= 'LSDR10,SDSS12,PS1DR1' / Name of catalogs used in the crossmatch      \n",
       "SEQ_USED= 'B0,R0,B1,R1,B2,R2,B3,R3' / VT sequences used in algorithm            \n",
       "N_CAND  =                    3 / Number of candidates identified                \n",
       "MXT_RA  =    212.9195283026045 / RA from QPO_MXT used for filtering             \n",
       "MXT_DEC =   29.632495290551866 / Dec from QPO_MXT used for filtering            \n",
       "MXT_ERR = 0.000555555555555555 / Error from QPO_MXT used for filtering          \n",
       "TT_ECL  = '2023-10-17T00:00:53.709' / Trigger time from ECLAIRs in UTC          "
      ]
     },
     "execution_count": 28,
     "metadata": {},
     "output_type": "execute_result"
    }
   ],
   "source": [
    "hdul[0].header"
   ]
  },
  {
   "cell_type": "code",
   "execution_count": 20,
   "id": "6a557f86",
   "metadata": {},
   "outputs": [
    {
     "name": "stdout",
     "output_type": "stream",
     "text": [
      "5 212.6389636 29.6993735         DATE-OBS            MAG_R      MAG_R_ERR   ...  MAG_B_ERR   MAG_B_LIM\n",
      "----------------------- ------------- ------------ ... ------------ ---------\n",
      "2023-10-13T09:12:46.000 17.1300001526          0.0 ...          0.0     23.01\n",
      "2023-10-13T09:17:46.000 18.0200014496 0.0099999998 ... 0.0099999998      23.4\n",
      "2023-10-13T10:46:46.000 20.2600012207 0.0099999998 ... 0.0099999998     23.41\n",
      "2023-10-13T11:21:46.000 20.5800009155 0.0199999996 ... 0.0199999996     23.46\n",
      "2025-02-25 09:10:03 -    DEBUG - zhunter.photometry - [photometry.py:342 - create_visual_representation] - Creating visual representation of photometric data point\n",
      "2025-02-25 09:10:03 -    DEBUG - zhunter.photometry - [photometry.py:438 - create_errorbar] - Creating error bar for photometric data point\n",
      "2025-02-25 09:10:03 -     INFO - zhunter.photometry - [photometry.py:462 - create_errorbar] - Making temporal plot relative to t0: 2023-10-13T00:00:53.709 (displayed in s)\n",
      "2025-02-25 09:10:03 -     INFO - zhunter.photometry - [photometry.py:480 - create_errorbar] - Converting x axis to logscale because t0 is present\n",
      "2025-02-25 09:10:03 -    DEBUG - zhunter.photometry - [photometry.py:486 - create_errorbar] - x, xerr = 4.522e+00, [[0.00196293]\n",
      " [0.0019541 ]]\n",
      "2025-02-25 09:10:03 -    DEBUG - zhunter.conversions - [conversions.py: 80 - convert_flux_with_unc_propagation] - Both units are the same (mag(AB)), no conversion needed.\n",
      "2025-02-25 09:10:03 -    DEBUG - zhunter.conversions - [conversions.py: 89 - convert_flux_with_unc_propagation] - Returning y, yp, ym = 17.1300001526 mag(AB), 0.01 mag, 0.01 mag\n",
      "2025-02-25 09:10:03 -    DEBUG - zhunter.photometry - [photometry.py:506 - create_errorbar] - y, yerr = 1.713e+01, [[0.01]\n",
      " [0.01]]\n",
      "2025-02-25 09:10:03 -    DEBUG - zhunter.photometry - [photometry.py:342 - create_visual_representation] - Creating visual representation of photometric data point\n",
      "2025-02-25 09:10:03 -    DEBUG - zhunter.photometry - [photometry.py:438 - create_errorbar] - Creating error bar for photometric data point\n",
      "2025-02-25 09:10:03 -     INFO - zhunter.photometry - [photometry.py:462 - create_errorbar] - Making temporal plot relative to t0: 2023-10-13T00:00:53.709 (displayed in s)\n",
      "2025-02-25 09:10:03 -     INFO - zhunter.photometry - [photometry.py:480 - create_errorbar] - Converting x axis to logscale because t0 is present\n",
      "2025-02-25 09:10:03 -    DEBUG - zhunter.photometry - [photometry.py:486 - create_errorbar] - x, xerr = 4.522e+00, [[0.00196293]\n",
      " [0.0019541 ]]\n",
      "2025-02-25 09:10:03 -    DEBUG - zhunter.conversions - [conversions.py: 80 - convert_flux_with_unc_propagation] - Both units are the same (mag(AB)), no conversion needed.\n",
      "2025-02-25 09:10:03 -    DEBUG - zhunter.conversions - [conversions.py: 89 - convert_flux_with_unc_propagation] - Returning y, yp, ym = 17.5200009155 mag(AB), 0.01 mag, 0.01 mag\n",
      "2025-02-25 09:10:03 -    DEBUG - zhunter.photometry - [photometry.py:506 - create_errorbar] - y, yerr = 1.752e+01, [[0.01]\n",
      " [0.01]]\n",
      "2025-02-25 09:10:03 -    DEBUG - zhunter.photometry - [photometry.py:342 - create_visual_representation] - Creating visual representation of photometric data point\n",
      "2025-02-25 09:10:03 -    DEBUG - zhunter.photometry - [photometry.py:438 - create_errorbar] - Creating error bar for photometric data point\n",
      "2025-02-25 09:10:03 -     INFO - zhunter.photometry - [photometry.py:462 - create_errorbar] - Making temporal plot relative to t0: 2023-10-13T00:00:53.709 (displayed in s)\n",
      "2025-02-25 09:10:03 -     INFO - zhunter.photometry - [photometry.py:480 - create_errorbar] - Converting x axis to logscale because t0 is present\n",
      "2025-02-25 09:10:03 -    DEBUG - zhunter.photometry - [photometry.py:486 - create_errorbar] - x, xerr = 4.526e+00, [[0.00194534]\n",
      " [0.00193667]]\n",
      "2025-02-25 09:10:03 -    DEBUG - zhunter.conversions - [conversions.py: 80 - convert_flux_with_unc_propagation] - Both units are the same (mag(AB)), no conversion needed.\n",
      "2025-02-25 09:10:03 -    DEBUG - zhunter.conversions - [conversions.py: 89 - convert_flux_with_unc_propagation] - Returning y, yp, ym = 18.0200014496 mag(AB), 0.0099999998 mag, 0.0099999998 mag\n",
      "2025-02-25 09:10:03 -    DEBUG - zhunter.photometry - [photometry.py:506 - create_errorbar] - y, yerr = 1.802e+01, [[0.01]\n",
      " [0.01]]\n",
      "2025-02-25 09:10:03 -    DEBUG - zhunter.photometry - [photometry.py:342 - create_visual_representation] - Creating visual representation of photometric data point\n",
      "2025-02-25 09:10:03 -    DEBUG - zhunter.photometry - [photometry.py:438 - create_errorbar] - Creating error bar for photometric data point\n",
      "2025-02-25 09:10:03 -     INFO - zhunter.photometry - [photometry.py:462 - create_errorbar] - Making temporal plot relative to t0: 2023-10-13T00:00:53.709 (displayed in s)\n",
      "2025-02-25 09:10:03 -     INFO - zhunter.photometry - [photometry.py:480 - create_errorbar] - Converting x axis to logscale because t0 is present\n",
      "2025-02-25 09:10:03 -    DEBUG - zhunter.photometry - [photometry.py:486 - create_errorbar] - x, xerr = 4.526e+00, [[0.00194534]\n",
      " [0.00193667]]\n",
      "2025-02-25 09:10:03 -    DEBUG - zhunter.conversions - [conversions.py: 80 - convert_flux_with_unc_propagation] - Both units are the same (mag(AB)), no conversion needed.\n",
      "2025-02-25 09:10:03 -    DEBUG - zhunter.conversions - [conversions.py: 89 - convert_flux_with_unc_propagation] - Returning y, yp, ym = 18.4000000763 mag(AB), 0.0099999998 mag, 0.0099999998 mag\n",
      "2025-02-25 09:10:03 -    DEBUG - zhunter.photometry - [photometry.py:506 - create_errorbar] - y, yerr = 1.840e+01, [[0.01]\n",
      " [0.01]]\n",
      "2025-02-25 09:10:03 -    DEBUG - zhunter.photometry - [photometry.py:342 - create_visual_representation] - Creating visual representation of photometric data point\n",
      "2025-02-25 09:10:03 -    DEBUG - zhunter.photometry - [photometry.py:438 - create_errorbar] - Creating error bar for photometric data point\n",
      "2025-02-25 09:10:03 -     INFO - zhunter.photometry - [photometry.py:462 - create_errorbar] - Making temporal plot relative to t0: 2023-10-13T00:00:53.709 (displayed in s)\n",
      "2025-02-25 09:10:03 -     INFO - zhunter.photometry - [photometry.py:480 - create_errorbar] - Converting x axis to logscale because t0 is present\n",
      "2025-02-25 09:10:03 -    DEBUG - zhunter.photometry - [photometry.py:486 - create_errorbar] - x, xerr = 4.590e+00, [[0.0016778 ]\n",
      " [0.00167134]]\n",
      "2025-02-25 09:10:03 -    DEBUG - zhunter.conversions - [conversions.py: 80 - convert_flux_with_unc_propagation] - Both units are the same (mag(AB)), no conversion needed.\n",
      "2025-02-25 09:10:03 -    DEBUG - zhunter.conversions - [conversions.py: 89 - convert_flux_with_unc_propagation] - Returning y, yp, ym = 20.2600012207 mag(AB), 0.0099999998 mag, 0.0099999998 mag\n",
      "2025-02-25 09:10:03 -    DEBUG - zhunter.photometry - [photometry.py:506 - create_errorbar] - y, yerr = 2.026e+01, [[0.01]\n",
      " [0.01]]\n",
      "2025-02-25 09:10:03 -    DEBUG - zhunter.photometry - [photometry.py:342 - create_visual_representation] - Creating visual representation of photometric data point\n",
      "2025-02-25 09:10:03 -    DEBUG - zhunter.photometry - [photometry.py:438 - create_errorbar] - Creating error bar for photometric data point\n",
      "2025-02-25 09:10:03 -     INFO - zhunter.photometry - [photometry.py:462 - create_errorbar] - Making temporal plot relative to t0: 2023-10-13T00:00:53.709 (displayed in s)\n",
      "2025-02-25 09:10:03 -     INFO - zhunter.photometry - [photometry.py:480 - create_errorbar] - Converting x axis to logscale because t0 is present\n",
      "2025-02-25 09:10:03 -    DEBUG - zhunter.photometry - [photometry.py:486 - create_errorbar] - x, xerr = 4.590e+00, [[0.0016778 ]\n",
      " [0.00167134]]\n",
      "2025-02-25 09:10:03 -    DEBUG - zhunter.conversions - [conversions.py: 80 - convert_flux_with_unc_propagation] - Both units are the same (mag(AB)), no conversion needed.\n",
      "2025-02-25 09:10:03 -    DEBUG - zhunter.conversions - [conversions.py: 89 - convert_flux_with_unc_propagation] - Returning y, yp, ym = 20.6899990845 mag(AB), 0.0099999998 mag, 0.0099999998 mag\n",
      "2025-02-25 09:10:03 -    DEBUG - zhunter.photometry - [photometry.py:506 - create_errorbar] - y, yerr = 2.069e+01, [[0.01]\n",
      " [0.01]]\n",
      "2025-02-25 09:10:03 -    DEBUG - zhunter.photometry - [photometry.py:342 - create_visual_representation] - Creating visual representation of photometric data point\n",
      "2025-02-25 09:10:03 -    DEBUG - zhunter.photometry - [photometry.py:438 - create_errorbar] - Creating error bar for photometric data point\n",
      "2025-02-25 09:10:03 -     INFO - zhunter.photometry - [photometry.py:462 - create_errorbar] - Making temporal plot relative to t0: 2023-10-13T00:00:53.709 (displayed in s)\n",
      "2025-02-25 09:10:03 -     INFO - zhunter.photometry - [photometry.py:480 - create_errorbar] - Converting x axis to logscale because t0 is present\n",
      "2025-02-25 09:10:03 -    DEBUG - zhunter.photometry - [photometry.py:486 - create_errorbar] - x, xerr = 4.613e+00, [[0.00159171]\n",
      " [0.00158589]]\n",
      "2025-02-25 09:10:03 -    DEBUG - zhunter.conversions - [conversions.py: 80 - convert_flux_with_unc_propagation] - Both units are the same (mag(AB)), no conversion needed.\n",
      "2025-02-25 09:10:03 -    DEBUG - zhunter.conversions - [conversions.py: 89 - convert_flux_with_unc_propagation] - Returning y, yp, ym = 20.5800009155 mag(AB), 0.0199999996 mag, 0.0199999996 mag\n",
      "2025-02-25 09:10:03 -    DEBUG - zhunter.photometry - [photometry.py:506 - create_errorbar] - y, yerr = 2.058e+01, [[0.02]\n",
      " [0.02]]\n",
      "2025-02-25 09:10:03 -    DEBUG - zhunter.photometry - [photometry.py:342 - create_visual_representation] - Creating visual representation of photometric data point\n",
      "2025-02-25 09:10:03 -    DEBUG - zhunter.photometry - [photometry.py:438 - create_errorbar] - Creating error bar for photometric data point\n",
      "2025-02-25 09:10:03 -     INFO - zhunter.photometry - [photometry.py:462 - create_errorbar] - Making temporal plot relative to t0: 2023-10-13T00:00:53.709 (displayed in s)\n",
      "2025-02-25 09:10:03 -     INFO - zhunter.photometry - [photometry.py:480 - create_errorbar] - Converting x axis to logscale because t0 is present\n",
      "2025-02-25 09:10:03 -    DEBUG - zhunter.photometry - [photometry.py:486 - create_errorbar] - x, xerr = 4.613e+00, [[0.00159171]\n",
      " [0.00158589]]\n",
      "2025-02-25 09:10:03 -    DEBUG - zhunter.conversions - [conversions.py: 80 - convert_flux_with_unc_propagation] - Both units are the same (mag(AB)), no conversion needed.\n",
      "2025-02-25 09:10:03 -    DEBUG - zhunter.conversions - [conversions.py: 89 - convert_flux_with_unc_propagation] - Returning y, yp, ym = 21.0100006866 mag(AB), 0.0199999996 mag, 0.0199999996 mag\n",
      "2025-02-25 09:10:03 -    DEBUG - zhunter.photometry - [photometry.py:506 - create_errorbar] - y, yerr = 2.101e+01, [[0.02]\n",
      " [0.02]]\n",
      "99 212.6376451 29.6720328         DATE-OBS            MAG_R      MAG_R_ERR   ... MAG_B MAG_B_ERR MAG_B_LIM\n",
      "----------------------- ------------- ------------ ... ----- --------- ---------\n",
      "2023-10-13T09:12:46.000 22.7100000763 0.0599999987 ...    --        --     23.01\n",
      "2023-10-13T09:17:46.000            --           -- ...    --        --      23.4\n",
      "2023-10-13T10:46:46.000            --           -- ...    --        --     23.41\n",
      "2023-10-13T11:21:46.000            --           -- ...    --        --     23.46\n",
      "2025-02-25 09:10:03 -    DEBUG - zhunter.photometry - [photometry.py:342 - create_visual_representation] - Creating visual representation of photometric data point\n",
      "2025-02-25 09:10:03 -    DEBUG - zhunter.photometry - [photometry.py:438 - create_errorbar] - Creating error bar for photometric data point\n",
      "2025-02-25 09:10:03 -     INFO - zhunter.photometry - [photometry.py:462 - create_errorbar] - Making temporal plot relative to t0: 2023-10-13T00:00:53.709 (displayed in s)\n",
      "2025-02-25 09:10:03 -     INFO - zhunter.photometry - [photometry.py:480 - create_errorbar] - Converting x axis to logscale because t0 is present\n",
      "2025-02-25 09:10:03 -    DEBUG - zhunter.photometry - [photometry.py:486 - create_errorbar] - x, xerr = 4.522e+00, [[0.00196293]\n",
      " [0.0019541 ]]\n",
      "2025-02-25 09:10:03 -    DEBUG - zhunter.conversions - [conversions.py: 80 - convert_flux_with_unc_propagation] - Both units are the same (mag(AB)), no conversion needed.\n",
      "2025-02-25 09:10:03 -    DEBUG - zhunter.conversions - [conversions.py: 89 - convert_flux_with_unc_propagation] - Returning y, yp, ym = 22.7100000763 mag(AB), 0.0599999987 mag, 0.0599999987 mag\n",
      "2025-02-25 09:10:03 -    DEBUG - zhunter.photometry - [photometry.py:506 - create_errorbar] - y, yerr = 2.271e+01, [[0.06]\n",
      " [0.06]]\n",
      "2025-02-25 09:10:03 -    DEBUG - zhunter.photometry - [photometry.py:342 - create_visual_representation] - Creating visual representation of photometric data point\n",
      "2025-02-25 09:10:03 -    DEBUG - zhunter.photometry - [photometry.py:438 - create_errorbar] - Creating error bar for photometric data point\n",
      "2025-02-25 09:10:03 -     INFO - zhunter.photometry - [photometry.py:462 - create_errorbar] - Making temporal plot relative to t0: 2023-10-13T00:00:53.709 (displayed in s)\n",
      "2025-02-25 09:10:03 -     INFO - zhunter.photometry - [photometry.py:480 - create_errorbar] - Converting x axis to logscale because t0 is present\n",
      "2025-02-25 09:10:03 -    DEBUG - zhunter.photometry - [photometry.py:486 - create_errorbar] - x, xerr = 4.522e+00, [[0.00196293]\n",
      " [0.0019541 ]]\n",
      "2025-02-25 09:10:03 -    DEBUG - zhunter.conversions - [conversions.py: 80 - convert_flux_with_unc_propagation] - Both units are the same (mag(AB)), no conversion needed.\n",
      "2025-02-25 09:10:03 -    DEBUG - zhunter.conversions - [conversions.py: 89 - convert_flux_with_unc_propagation] - Returning y, yp, ym = 23.01 mag(AB), 1.0 mag, 0.0 mag\n",
      "2025-02-25 09:10:03 -    DEBUG - zhunter.photometry - [photometry.py:506 - create_errorbar] - y, yerr = 2.301e+01, [[0.]\n",
      " [1.]]\n",
      "2025-02-25 09:10:03 -    DEBUG - zhunter.photometry - [photometry.py:342 - create_visual_representation] - Creating visual representation of photometric data point\n",
      "2025-02-25 09:10:03 -    DEBUG - zhunter.photometry - [photometry.py:438 - create_errorbar] - Creating error bar for photometric data point\n",
      "2025-02-25 09:10:03 -     INFO - zhunter.photometry - [photometry.py:462 - create_errorbar] - Making temporal plot relative to t0: 2023-10-13T00:00:53.709 (displayed in s)\n",
      "2025-02-25 09:10:03 -     INFO - zhunter.photometry - [photometry.py:480 - create_errorbar] - Converting x axis to logscale because t0 is present\n",
      "2025-02-25 09:10:03 -    DEBUG - zhunter.photometry - [photometry.py:486 - create_errorbar] - x, xerr = 4.526e+00, [[0.00194534]\n",
      " [0.00193667]]\n",
      "2025-02-25 09:10:03 -    DEBUG - zhunter.conversions - [conversions.py: 80 - convert_flux_with_unc_propagation] - Both units are the same (mag(AB)), no conversion needed.\n",
      "2025-02-25 09:10:03 -    DEBUG - zhunter.conversions - [conversions.py: 89 - convert_flux_with_unc_propagation] - Returning y, yp, ym = 23.13 mag(AB), 1.0 mag, 0.0 mag\n",
      "2025-02-25 09:10:03 -    DEBUG - zhunter.photometry - [photometry.py:506 - create_errorbar] - y, yerr = 2.313e+01, [[0.]\n",
      " [1.]]\n",
      "2025-02-25 09:10:03 -    DEBUG - zhunter.photometry - [photometry.py:342 - create_visual_representation] - Creating visual representation of photometric data point\n",
      "2025-02-25 09:10:03 -    DEBUG - zhunter.photometry - [photometry.py:438 - create_errorbar] - Creating error bar for photometric data point\n",
      "2025-02-25 09:10:03 -     INFO - zhunter.photometry - [photometry.py:462 - create_errorbar] - Making temporal plot relative to t0: 2023-10-13T00:00:53.709 (displayed in s)\n",
      "2025-02-25 09:10:03 -     INFO - zhunter.photometry - [photometry.py:480 - create_errorbar] - Converting x axis to logscale because t0 is present\n",
      "2025-02-25 09:10:03 -    DEBUG - zhunter.photometry - [photometry.py:486 - create_errorbar] - x, xerr = 4.526e+00, [[0.00194534]\n",
      " [0.00193667]]\n",
      "2025-02-25 09:10:03 -    DEBUG - zhunter.conversions - [conversions.py: 80 - convert_flux_with_unc_propagation] - Both units are the same (mag(AB)), no conversion needed.\n",
      "2025-02-25 09:10:03 -    DEBUG - zhunter.conversions - [conversions.py: 89 - convert_flux_with_unc_propagation] - Returning y, yp, ym = 23.4 mag(AB), 1.0 mag, 0.0 mag\n",
      "2025-02-25 09:10:03 -    DEBUG - zhunter.photometry - [photometry.py:506 - create_errorbar] - y, yerr = 2.340e+01, [[0.]\n",
      " [1.]]\n",
      "2025-02-25 09:10:03 -    DEBUG - zhunter.photometry - [photometry.py:342 - create_visual_representation] - Creating visual representation of photometric data point\n",
      "2025-02-25 09:10:03 -    DEBUG - zhunter.photometry - [photometry.py:438 - create_errorbar] - Creating error bar for photometric data point\n",
      "2025-02-25 09:10:03 -     INFO - zhunter.photometry - [photometry.py:462 - create_errorbar] - Making temporal plot relative to t0: 2023-10-13T00:00:53.709 (displayed in s)\n",
      "2025-02-25 09:10:03 -     INFO - zhunter.photometry - [photometry.py:480 - create_errorbar] - Converting x axis to logscale because t0 is present\n",
      "2025-02-25 09:10:03 -    DEBUG - zhunter.photometry - [photometry.py:486 - create_errorbar] - x, xerr = 4.590e+00, [[0.0016778 ]\n",
      " [0.00167134]]\n",
      "2025-02-25 09:10:03 -    DEBUG - zhunter.conversions - [conversions.py: 80 - convert_flux_with_unc_propagation] - Both units are the same (mag(AB)), no conversion needed.\n",
      "2025-02-25 09:10:03 -    DEBUG - zhunter.conversions - [conversions.py: 89 - convert_flux_with_unc_propagation] - Returning y, yp, ym = 23.16 mag(AB), 1.0 mag, 0.0 mag\n",
      "2025-02-25 09:10:03 -    DEBUG - zhunter.photometry - [photometry.py:506 - create_errorbar] - y, yerr = 2.316e+01, [[0.]\n",
      " [1.]]\n",
      "2025-02-25 09:10:03 -    DEBUG - zhunter.photometry - [photometry.py:342 - create_visual_representation] - Creating visual representation of photometric data point\n",
      "2025-02-25 09:10:03 -    DEBUG - zhunter.photometry - [photometry.py:438 - create_errorbar] - Creating error bar for photometric data point\n",
      "2025-02-25 09:10:03 -     INFO - zhunter.photometry - [photometry.py:462 - create_errorbar] - Making temporal plot relative to t0: 2023-10-13T00:00:53.709 (displayed in s)\n",
      "2025-02-25 09:10:03 -     INFO - zhunter.photometry - [photometry.py:480 - create_errorbar] - Converting x axis to logscale because t0 is present\n",
      "2025-02-25 09:10:03 -    DEBUG - zhunter.photometry - [photometry.py:486 - create_errorbar] - x, xerr = 4.590e+00, [[0.0016778 ]\n",
      " [0.00167134]]\n",
      "2025-02-25 09:10:03 -    DEBUG - zhunter.conversions - [conversions.py: 80 - convert_flux_with_unc_propagation] - Both units are the same (mag(AB)), no conversion needed.\n",
      "2025-02-25 09:10:03 -    DEBUG - zhunter.conversions - [conversions.py: 89 - convert_flux_with_unc_propagation] - Returning y, yp, ym = 23.41 mag(AB), 1.0 mag, 0.0 mag\n",
      "2025-02-25 09:10:03 -    DEBUG - zhunter.photometry - [photometry.py:506 - create_errorbar] - y, yerr = 2.341e+01, [[0.]\n",
      " [1.]]\n",
      "2025-02-25 09:10:03 -    DEBUG - zhunter.photometry - [photometry.py:342 - create_visual_representation] - Creating visual representation of photometric data point\n",
      "2025-02-25 09:10:03 -    DEBUG - zhunter.photometry - [photometry.py:438 - create_errorbar] - Creating error bar for photometric data point\n",
      "2025-02-25 09:10:03 -     INFO - zhunter.photometry - [photometry.py:462 - create_errorbar] - Making temporal plot relative to t0: 2023-10-13T00:00:53.709 (displayed in s)\n",
      "2025-02-25 09:10:03 -     INFO - zhunter.photometry - [photometry.py:480 - create_errorbar] - Converting x axis to logscale because t0 is present\n",
      "2025-02-25 09:10:03 -    DEBUG - zhunter.photometry - [photometry.py:486 - create_errorbar] - x, xerr = 4.613e+00, [[0.00159171]\n",
      " [0.00158589]]\n",
      "2025-02-25 09:10:03 -    DEBUG - zhunter.conversions - [conversions.py: 80 - convert_flux_with_unc_propagation] - Both units are the same (mag(AB)), no conversion needed.\n",
      "2025-02-25 09:10:03 -    DEBUG - zhunter.conversions - [conversions.py: 89 - convert_flux_with_unc_propagation] - Returning y, yp, ym = 23.21 mag(AB), 1.0 mag, 0.0 mag\n",
      "2025-02-25 09:10:03 -    DEBUG - zhunter.photometry - [photometry.py:506 - create_errorbar] - y, yerr = 2.321e+01, [[0.]\n",
      " [1.]]\n",
      "2025-02-25 09:10:03 -    DEBUG - zhunter.photometry - [photometry.py:342 - create_visual_representation] - Creating visual representation of photometric data point\n",
      "2025-02-25 09:10:03 -    DEBUG - zhunter.photometry - [photometry.py:438 - create_errorbar] - Creating error bar for photometric data point\n",
      "2025-02-25 09:10:03 -     INFO - zhunter.photometry - [photometry.py:462 - create_errorbar] - Making temporal plot relative to t0: 2023-10-13T00:00:53.709 (displayed in s)\n",
      "2025-02-25 09:10:03 -     INFO - zhunter.photometry - [photometry.py:480 - create_errorbar] - Converting x axis to logscale because t0 is present\n",
      "2025-02-25 09:10:03 -    DEBUG - zhunter.photometry - [photometry.py:486 - create_errorbar] - x, xerr = 4.613e+00, [[0.00159171]\n",
      " [0.00158589]]\n",
      "2025-02-25 09:10:03 -    DEBUG - zhunter.conversions - [conversions.py: 80 - convert_flux_with_unc_propagation] - Both units are the same (mag(AB)), no conversion needed.\n",
      "2025-02-25 09:10:03 -    DEBUG - zhunter.conversions - [conversions.py: 89 - convert_flux_with_unc_propagation] - Returning y, yp, ym = 23.46 mag(AB), 1.0 mag, 0.0 mag\n",
      "2025-02-25 09:10:03 -    DEBUG - zhunter.photometry - [photometry.py:506 - create_errorbar] - y, yerr = 2.346e+01, [[0.]\n",
      " [1.]]\n",
      "103 212.6472916 29.7064108         DATE-OBS            MAG_R      MAG_R_ERR   ... MAG_B MAG_B_ERR MAG_B_LIM\n",
      "----------------------- ------------- ------------ ... ----- --------- ---------\n",
      "2023-10-13T09:12:46.000 22.9600000763 0.0599999987 ...    --        --     23.01\n",
      "2023-10-13T09:17:46.000            --           -- ...    --        --      23.4\n",
      "2023-10-13T10:46:46.000            --           -- ...    --        --     23.41\n",
      "2023-10-13T11:21:46.000            --           -- ...    --        --     23.46\n",
      "2025-02-25 09:10:03 -    DEBUG - zhunter.photometry - [photometry.py:342 - create_visual_representation] - Creating visual representation of photometric data point\n",
      "2025-02-25 09:10:03 -    DEBUG - zhunter.photometry - [photometry.py:438 - create_errorbar] - Creating error bar for photometric data point\n",
      "2025-02-25 09:10:03 -     INFO - zhunter.photometry - [photometry.py:462 - create_errorbar] - Making temporal plot relative to t0: 2023-10-13T00:00:53.709 (displayed in s)\n",
      "2025-02-25 09:10:03 -     INFO - zhunter.photometry - [photometry.py:480 - create_errorbar] - Converting x axis to logscale because t0 is present\n",
      "2025-02-25 09:10:03 -    DEBUG - zhunter.photometry - [photometry.py:486 - create_errorbar] - x, xerr = 4.522e+00, [[0.00196293]\n",
      " [0.0019541 ]]\n",
      "2025-02-25 09:10:03 -    DEBUG - zhunter.conversions - [conversions.py: 80 - convert_flux_with_unc_propagation] - Both units are the same (mag(AB)), no conversion needed.\n",
      "2025-02-25 09:10:03 -    DEBUG - zhunter.conversions - [conversions.py: 89 - convert_flux_with_unc_propagation] - Returning y, yp, ym = 22.9600000763 mag(AB), 0.0599999987 mag, 0.0599999987 mag\n",
      "2025-02-25 09:10:03 -    DEBUG - zhunter.photometry - [photometry.py:506 - create_errorbar] - y, yerr = 2.296e+01, [[0.06]\n",
      " [0.06]]\n",
      "2025-02-25 09:10:03 -    DEBUG - zhunter.photometry - [photometry.py:342 - create_visual_representation] - Creating visual representation of photometric data point\n",
      "2025-02-25 09:10:03 -    DEBUG - zhunter.photometry - [photometry.py:438 - create_errorbar] - Creating error bar for photometric data point\n",
      "2025-02-25 09:10:03 -     INFO - zhunter.photometry - [photometry.py:462 - create_errorbar] - Making temporal plot relative to t0: 2023-10-13T00:00:53.709 (displayed in s)\n",
      "2025-02-25 09:10:03 -     INFO - zhunter.photometry - [photometry.py:480 - create_errorbar] - Converting x axis to logscale because t0 is present\n",
      "2025-02-25 09:10:03 -    DEBUG - zhunter.photometry - [photometry.py:486 - create_errorbar] - x, xerr = 4.522e+00, [[0.00196293]\n",
      " [0.0019541 ]]\n",
      "2025-02-25 09:10:03 -    DEBUG - zhunter.conversions - [conversions.py: 80 - convert_flux_with_unc_propagation] - Both units are the same (mag(AB)), no conversion needed.\n",
      "2025-02-25 09:10:03 -    DEBUG - zhunter.conversions - [conversions.py: 89 - convert_flux_with_unc_propagation] - Returning y, yp, ym = 23.01 mag(AB), 1.0 mag, 0.0 mag\n",
      "2025-02-25 09:10:03 -    DEBUG - zhunter.photometry - [photometry.py:506 - create_errorbar] - y, yerr = 2.301e+01, [[0.]\n",
      " [1.]]\n",
      "2025-02-25 09:10:03 -    DEBUG - zhunter.photometry - [photometry.py:342 - create_visual_representation] - Creating visual representation of photometric data point\n",
      "2025-02-25 09:10:03 -    DEBUG - zhunter.photometry - [photometry.py:438 - create_errorbar] - Creating error bar for photometric data point\n",
      "2025-02-25 09:10:03 -     INFO - zhunter.photometry - [photometry.py:462 - create_errorbar] - Making temporal plot relative to t0: 2023-10-13T00:00:53.709 (displayed in s)\n",
      "2025-02-25 09:10:03 -     INFO - zhunter.photometry - [photometry.py:480 - create_errorbar] - Converting x axis to logscale because t0 is present\n",
      "2025-02-25 09:10:03 -    DEBUG - zhunter.photometry - [photometry.py:486 - create_errorbar] - x, xerr = 4.526e+00, [[0.00194534]\n",
      " [0.00193667]]\n",
      "2025-02-25 09:10:03 -    DEBUG - zhunter.conversions - [conversions.py: 80 - convert_flux_with_unc_propagation] - Both units are the same (mag(AB)), no conversion needed.\n",
      "2025-02-25 09:10:03 -    DEBUG - zhunter.conversions - [conversions.py: 89 - convert_flux_with_unc_propagation] - Returning y, yp, ym = 23.13 mag(AB), 1.0 mag, 0.0 mag\n",
      "2025-02-25 09:10:03 -    DEBUG - zhunter.photometry - [photometry.py:506 - create_errorbar] - y, yerr = 2.313e+01, [[0.]\n",
      " [1.]]\n",
      "2025-02-25 09:10:03 -    DEBUG - zhunter.photometry - [photometry.py:342 - create_visual_representation] - Creating visual representation of photometric data point\n",
      "2025-02-25 09:10:03 -    DEBUG - zhunter.photometry - [photometry.py:438 - create_errorbar] - Creating error bar for photometric data point\n",
      "2025-02-25 09:10:03 -     INFO - zhunter.photometry - [photometry.py:462 - create_errorbar] - Making temporal plot relative to t0: 2023-10-13T00:00:53.709 (displayed in s)\n",
      "2025-02-25 09:10:03 -     INFO - zhunter.photometry - [photometry.py:480 - create_errorbar] - Converting x axis to logscale because t0 is present\n",
      "2025-02-25 09:10:03 -    DEBUG - zhunter.photometry - [photometry.py:486 - create_errorbar] - x, xerr = 4.526e+00, [[0.00194534]\n",
      " [0.00193667]]\n",
      "2025-02-25 09:10:03 -    DEBUG - zhunter.conversions - [conversions.py: 80 - convert_flux_with_unc_propagation] - Both units are the same (mag(AB)), no conversion needed.\n",
      "2025-02-25 09:10:03 -    DEBUG - zhunter.conversions - [conversions.py: 89 - convert_flux_with_unc_propagation] - Returning y, yp, ym = 23.4 mag(AB), 1.0 mag, 0.0 mag\n",
      "2025-02-25 09:10:03 -    DEBUG - zhunter.photometry - [photometry.py:506 - create_errorbar] - y, yerr = 2.340e+01, [[0.]\n",
      " [1.]]\n",
      "2025-02-25 09:10:03 -    DEBUG - zhunter.photometry - [photometry.py:342 - create_visual_representation] - Creating visual representation of photometric data point\n",
      "2025-02-25 09:10:03 -    DEBUG - zhunter.photometry - [photometry.py:438 - create_errorbar] - Creating error bar for photometric data point\n",
      "2025-02-25 09:10:03 -     INFO - zhunter.photometry - [photometry.py:462 - create_errorbar] - Making temporal plot relative to t0: 2023-10-13T00:00:53.709 (displayed in s)\n",
      "2025-02-25 09:10:03 -     INFO - zhunter.photometry - [photometry.py:480 - create_errorbar] - Converting x axis to logscale because t0 is present\n",
      "2025-02-25 09:10:03 -    DEBUG - zhunter.photometry - [photometry.py:486 - create_errorbar] - x, xerr = 4.590e+00, [[0.0016778 ]\n",
      " [0.00167134]]\n",
      "2025-02-25 09:10:03 -    DEBUG - zhunter.conversions - [conversions.py: 80 - convert_flux_with_unc_propagation] - Both units are the same (mag(AB)), no conversion needed.\n",
      "2025-02-25 09:10:03 -    DEBUG - zhunter.conversions - [conversions.py: 89 - convert_flux_with_unc_propagation] - Returning y, yp, ym = 23.16 mag(AB), 1.0 mag, 0.0 mag\n",
      "2025-02-25 09:10:03 -    DEBUG - zhunter.photometry - [photometry.py:506 - create_errorbar] - y, yerr = 2.316e+01, [[0.]\n",
      " [1.]]\n",
      "2025-02-25 09:10:03 -    DEBUG - zhunter.photometry - [photometry.py:342 - create_visual_representation] - Creating visual representation of photometric data point\n",
      "2025-02-25 09:10:03 -    DEBUG - zhunter.photometry - [photometry.py:438 - create_errorbar] - Creating error bar for photometric data point\n",
      "2025-02-25 09:10:03 -     INFO - zhunter.photometry - [photometry.py:462 - create_errorbar] - Making temporal plot relative to t0: 2023-10-13T00:00:53.709 (displayed in s)\n",
      "2025-02-25 09:10:03 -     INFO - zhunter.photometry - [photometry.py:480 - create_errorbar] - Converting x axis to logscale because t0 is present\n",
      "2025-02-25 09:10:03 -    DEBUG - zhunter.photometry - [photometry.py:486 - create_errorbar] - x, xerr = 4.590e+00, [[0.0016778 ]\n",
      " [0.00167134]]\n",
      "2025-02-25 09:10:03 -    DEBUG - zhunter.conversions - [conversions.py: 80 - convert_flux_with_unc_propagation] - Both units are the same (mag(AB)), no conversion needed.\n",
      "2025-02-25 09:10:03 -    DEBUG - zhunter.conversions - [conversions.py: 89 - convert_flux_with_unc_propagation] - Returning y, yp, ym = 23.41 mag(AB), 1.0 mag, 0.0 mag\n",
      "2025-02-25 09:10:03 -    DEBUG - zhunter.photometry - [photometry.py:506 - create_errorbar] - y, yerr = 2.341e+01, [[0.]\n",
      " [1.]]\n",
      "2025-02-25 09:10:03 -    DEBUG - zhunter.photometry - [photometry.py:342 - create_visual_representation] - Creating visual representation of photometric data point\n",
      "2025-02-25 09:10:03 -    DEBUG - zhunter.photometry - [photometry.py:438 - create_errorbar] - Creating error bar for photometric data point\n",
      "2025-02-25 09:10:03 -     INFO - zhunter.photometry - [photometry.py:462 - create_errorbar] - Making temporal plot relative to t0: 2023-10-13T00:00:53.709 (displayed in s)\n",
      "2025-02-25 09:10:03 -     INFO - zhunter.photometry - [photometry.py:480 - create_errorbar] - Converting x axis to logscale because t0 is present\n",
      "2025-02-25 09:10:03 -    DEBUG - zhunter.photometry - [photometry.py:486 - create_errorbar] - x, xerr = 4.613e+00, [[0.00159171]\n",
      " [0.00158589]]\n",
      "2025-02-25 09:10:03 -    DEBUG - zhunter.conversions - [conversions.py: 80 - convert_flux_with_unc_propagation] - Both units are the same (mag(AB)), no conversion needed.\n",
      "2025-02-25 09:10:03 -    DEBUG - zhunter.conversions - [conversions.py: 89 - convert_flux_with_unc_propagation] - Returning y, yp, ym = 23.21 mag(AB), 1.0 mag, 0.0 mag\n",
      "2025-02-25 09:10:03 -    DEBUG - zhunter.photometry - [photometry.py:506 - create_errorbar] - y, yerr = 2.321e+01, [[0.]\n",
      " [1.]]\n",
      "2025-02-25 09:10:03 -    DEBUG - zhunter.photometry - [photometry.py:342 - create_visual_representation] - Creating visual representation of photometric data point\n",
      "2025-02-25 09:10:03 -    DEBUG - zhunter.photometry - [photometry.py:438 - create_errorbar] - Creating error bar for photometric data point\n",
      "2025-02-25 09:10:03 -     INFO - zhunter.photometry - [photometry.py:462 - create_errorbar] - Making temporal plot relative to t0: 2023-10-13T00:00:53.709 (displayed in s)\n",
      "2025-02-25 09:10:03 -     INFO - zhunter.photometry - [photometry.py:480 - create_errorbar] - Converting x axis to logscale because t0 is present\n",
      "2025-02-25 09:10:03 -    DEBUG - zhunter.photometry - [photometry.py:486 - create_errorbar] - x, xerr = 4.613e+00, [[0.00159171]\n",
      " [0.00158589]]\n",
      "2025-02-25 09:10:03 -    DEBUG - zhunter.conversions - [conversions.py: 80 - convert_flux_with_unc_propagation] - Both units are the same (mag(AB)), no conversion needed.\n",
      "2025-02-25 09:10:03 -    DEBUG - zhunter.conversions - [conversions.py: 89 - convert_flux_with_unc_propagation] - Returning y, yp, ym = 23.46 mag(AB), 1.0 mag, 0.0 mag\n",
      "2025-02-25 09:10:03 -    DEBUG - zhunter.photometry - [photometry.py:506 - create_errorbar] - y, yerr = 2.346e+01, [[0.]\n",
      " [1.]]\n"
     ]
    }
   ],
   "source": [
    "pi = pg.PlotWidget()\n",
    "pi.show()\n",
    "for row in hdul[1:]:\n",
    "    ra = row.header[\"RA\"]\n",
    "    dec = row.header[\"DEC\"]\n",
    "    vt_id = row.header[\"VT_ID\"]\n",
    "    _tab = Table.read(row)\n",
    "    print(vt_id, ra,dec,_tab)\n",
    "    obs = []\n",
    "    for _obs in _tab:\n",
    "        for band in (\"R\", \"B\"):\n",
    "            if np.isfinite(_obs[f\"MAG_{band}\"]):\n",
    "                vt_obs = PhotometricPoint(\n",
    "                        mag=_obs[f\"MAG_{band}\"] * u.ABmag,\n",
    "                        unc=_obs[f\"MAG_{band}_ERR\"] * u.mag if _obs[f\"MAG_{band}_ERR\"] > 0 else 0.01 * u.mag, # 0.01 mag minimum uncertainty\n",
    "                        phot_filter=f\"VT_{band}\",\n",
    "                                                # phot_filter=f\"VT_{band}\",\n",
    "                        obs_time=_obs[\"DATE-OBS\"],\n",
    "                        obs_duration=300 * u.s,\n",
    "                    )\n",
    "            else:\n",
    "                vt_obs = PhotometricPoint(\n",
    "                        mag=_obs[f\"MAG_{band}_LIM\"] * u.ABmag,\n",
    "                        unc=0.0 * u.mag,\n",
    "                        limit=True,\n",
    "                        phot_filter=f\"VT_{band}\",\n",
    "                                                # phot_filter=f\"VT_{band}\",\n",
    "                        obs_time=_obs[\"DATE-OBS\"],\n",
    "                        obs_duration=300 * u.s,\n",
    "                    )\n",
    "            obs.append(vt_obs)\n",
    "                \n",
    "    for o in obs:\n",
    "        o.plot_pyqt(vb=pi, t0=Time(hdul[0].header[\"TT_ECL\"])-4*u.d, mode=\"temporal\", xlogscale=True)\n"
   ]
  },
  {
   "cell_type": "code",
   "execution_count": 27,
   "id": "6d2248ef",
   "metadata": {},
   "outputs": [
    {
     "name": "stdout",
     "output_type": "stream",
     "text": [
      "PhotometricFilter: VT_B (center=5322.247 Angstrom, width=2800.000 Angstrom)\n"
     ]
    }
   ],
   "source": [
    "from zhunter.photometry import PhotometricFilter\n",
    "phf = PhotometricFilter(\"VT_B\")\n",
    "print(phf)\n",
    "pi = pg.PlotWidget()\n",
    "pi.plot(phf.wavelength, phf.transmission)\n",
    "pi.show()"
   ]
  },
  {
   "cell_type": "code",
   "execution_count": null,
   "id": "c67f0b99",
   "metadata": {},
   "outputs": [
    {
     "name": "stdout",
     "output_type": "stream",
     "text": [
      "2025-02-25 07:27:10 -    DEBUG - zhunter.photometry - [photometry.py:342 - create_visual_representation] - Creating visual representation of photometric data point\n",
      "2025-02-25 07:27:10 -    DEBUG - zhunter.photometry - [photometry.py:438 - create_errorbar] - Creating error bar for photometric data point\n",
      "2025-02-25 07:27:10 -     INFO - zhunter.photometry - [photometry.py:462 - create_errorbar] - Making temporal plot relative to t0: 2023-10-13T00:00:53.709 (displayed in s)\n",
      "2025-02-25 07:27:10 -     INFO - zhunter.photometry - [photometry.py:480 - create_errorbar] - Converting x axis to logscale because t0 is present\n",
      "2025-02-25 07:27:10 -    DEBUG - zhunter.photometry - [photometry.py:486 - create_errorbar] - x, xerr = 4.522e+00, [[0.00196293]\n",
      " [0.0019541 ]]\n",
      "2025-02-25 07:27:10 -    DEBUG - zhunter.conversions - [conversions.py: 80 - convert_flux_with_unc_propagation] - Both units are the same (mag(AB)), no conversion needed.\n",
      "2025-02-25 07:27:10 -    DEBUG - zhunter.conversions - [conversions.py: 89 - convert_flux_with_unc_propagation] - Returning y, yp, ym = 17.1300001526 mag(AB), 0.01 mag, 0.01 mag\n",
      "2025-02-25 07:27:10 -    DEBUG - zhunter.photometry - [photometry.py:506 - create_errorbar] - y, yerr = 1.713e+01, [[0.01]\n",
      " [0.01]]\n",
      "2025-02-25 07:27:10 -    DEBUG - zhunter.photometry - [photometry.py:342 - create_visual_representation] - Creating visual representation of photometric data point\n",
      "2025-02-25 07:27:10 -    DEBUG - zhunter.photometry - [photometry.py:438 - create_errorbar] - Creating error bar for photometric data point\n"
     ]
    },
    {
     "name": "stdout",
     "output_type": "stream",
     "text": [
      "2025-02-25 07:27:10 -     INFO - zhunter.photometry - [photometry.py:462 - create_errorbar] - Making temporal plot relative to t0: 2023-10-13T00:00:53.709 (displayed in s)\n",
      "2025-02-25 07:27:10 -     INFO - zhunter.photometry - [photometry.py:480 - create_errorbar] - Converting x axis to logscale because t0 is present\n",
      "2025-02-25 07:27:10 -    DEBUG - zhunter.photometry - [photometry.py:486 - create_errorbar] - x, xerr = 4.522e+00, [[0.00196293]\n",
      " [0.0019541 ]]\n",
      "2025-02-25 07:27:10 -    DEBUG - zhunter.conversions - [conversions.py: 80 - convert_flux_with_unc_propagation] - Both units are the same (mag(AB)), no conversion needed.\n",
      "2025-02-25 07:27:10 -    DEBUG - zhunter.conversions - [conversions.py: 89 - convert_flux_with_unc_propagation] - Returning y, yp, ym = 17.5200009155 mag(AB), 0.01 mag, 0.01 mag\n",
      "2025-02-25 07:27:10 -    DEBUG - zhunter.photometry - [photometry.py:506 - create_errorbar] - y, yerr = 1.752e+01, [[0.01]\n",
      " [0.01]]\n",
      "2025-02-25 07:27:10 -    DEBUG - zhunter.photometry - [photometry.py:342 - create_visual_representation] - Creating visual representation of photometric data point\n",
      "2025-02-25 07:27:10 -    DEBUG - zhunter.photometry - [photometry.py:438 - create_errorbar] - Creating error bar for photometric data point\n",
      "2025-02-25 07:27:10 -     INFO - zhunter.photometry - [photometry.py:462 - create_errorbar] - Making temporal plot relative to t0: 2023-10-13T00:00:53.709 (displayed in s)\n",
      "2025-02-25 07:27:10 -     INFO - zhunter.photometry - [photometry.py:480 - create_errorbar] - Converting x axis to logscale because t0 is present\n",
      "2025-02-25 07:27:10 -    DEBUG - zhunter.photometry - [photometry.py:486 - create_errorbar] - x, xerr = 4.526e+00, [[0.00194534]\n",
      " [0.00193667]]\n",
      "2025-02-25 07:27:10 -    DEBUG - zhunter.conversions - [conversions.py: 80 - convert_flux_with_unc_propagation] - Both units are the same (mag(AB)), no conversion needed.\n",
      "2025-02-25 07:27:10 -    DEBUG - zhunter.conversions - [conversions.py: 89 - convert_flux_with_unc_propagation] - Returning y, yp, ym = 18.0200014496 mag(AB), 0.0099999998 mag, 0.0099999998 mag\n",
      "2025-02-25 07:27:10 -    DEBUG - zhunter.photometry - [photometry.py:506 - create_errorbar] - y, yerr = 1.802e+01, [[0.01]\n",
      " [0.01]]\n",
      "2025-02-25 07:27:10 -    DEBUG - zhunter.photometry - [photometry.py:342 - create_visual_representation] - Creating visual representation of photometric data point\n",
      "2025-02-25 07:27:10 -    DEBUG - zhunter.photometry - [photometry.py:438 - create_errorbar] - Creating error bar for photometric data point\n",
      "2025-02-25 07:27:10 -     INFO - zhunter.photometry - [photometry.py:462 - create_errorbar] - Making temporal plot relative to t0: 2023-10-13T00:00:53.709 (displayed in s)\n",
      "2025-02-25 07:27:10 -     INFO - zhunter.photometry - [photometry.py:480 - create_errorbar] - Converting x axis to logscale because t0 is present\n",
      "2025-02-25 07:27:10 -    DEBUG - zhunter.photometry - [photometry.py:486 - create_errorbar] - x, xerr = 4.526e+00, [[0.00194534]\n",
      " [0.00193667]]\n",
      "2025-02-25 07:27:10 -    DEBUG - zhunter.conversions - [conversions.py: 80 - convert_flux_with_unc_propagation] - Both units are the same (mag(AB)), no conversion needed.\n",
      "2025-02-25 07:27:10 -    DEBUG - zhunter.conversions - [conversions.py: 89 - convert_flux_with_unc_propagation] - Returning y, yp, ym = 18.4000000763 mag(AB), 0.0099999998 mag, 0.0099999998 mag\n",
      "2025-02-25 07:27:10 -    DEBUG - zhunter.photometry - [photometry.py:506 - create_errorbar] - y, yerr = 1.840e+01, [[0.01]\n",
      " [0.01]]\n",
      "2025-02-25 07:27:10 -    DEBUG - zhunter.photometry - [photometry.py:342 - create_visual_representation] - Creating visual representation of photometric data point\n",
      "2025-02-25 07:27:10 -    DEBUG - zhunter.photometry - [photometry.py:438 - create_errorbar] - Creating error bar for photometric data point\n",
      "2025-02-25 07:27:11 -     INFO - zhunter.photometry - [photometry.py:462 - create_errorbar] - Making temporal plot relative to t0: 2023-10-13T00:00:53.709 (displayed in s)\n",
      "2025-02-25 07:27:11 -     INFO - zhunter.photometry - [photometry.py:480 - create_errorbar] - Converting x axis to logscale because t0 is present\n",
      "2025-02-25 07:27:11 -    DEBUG - zhunter.photometry - [photometry.py:486 - create_errorbar] - x, xerr = 4.590e+00, [[0.0016778 ]\n",
      " [0.00167134]]\n",
      "2025-02-25 07:27:11 -    DEBUG - zhunter.conversions - [conversions.py: 80 - convert_flux_with_unc_propagation] - Both units are the same (mag(AB)), no conversion needed.\n",
      "2025-02-25 07:27:11 -    DEBUG - zhunter.conversions - [conversions.py: 89 - convert_flux_with_unc_propagation] - Returning y, yp, ym = 20.2600012207 mag(AB), 0.0099999998 mag, 0.0099999998 mag\n",
      "2025-02-25 07:27:11 -    DEBUG - zhunter.photometry - [photometry.py:506 - create_errorbar] - y, yerr = 2.026e+01, [[0.01]\n",
      " [0.01]]\n",
      "2025-02-25 07:27:11 -    DEBUG - zhunter.photometry - [photometry.py:342 - create_visual_representation] - Creating visual representation of photometric data point\n",
      "2025-02-25 07:27:11 -    DEBUG - zhunter.photometry - [photometry.py:438 - create_errorbar] - Creating error bar for photometric data point\n",
      "2025-02-25 07:27:11 -     INFO - zhunter.photometry - [photometry.py:462 - create_errorbar] - Making temporal plot relative to t0: 2023-10-13T00:00:53.709 (displayed in s)\n",
      "2025-02-25 07:27:11 -     INFO - zhunter.photometry - [photometry.py:480 - create_errorbar] - Converting x axis to logscale because t0 is present\n",
      "2025-02-25 07:27:11 -    DEBUG - zhunter.photometry - [photometry.py:486 - create_errorbar] - x, xerr = 4.590e+00, [[0.0016778 ]\n",
      " [0.00167134]]\n",
      "2025-02-25 07:27:11 -    DEBUG - zhunter.conversions - [conversions.py: 80 - convert_flux_with_unc_propagation] - Both units are the same (mag(AB)), no conversion needed.\n",
      "2025-02-25 07:27:11 -    DEBUG - zhunter.conversions - [conversions.py: 89 - convert_flux_with_unc_propagation] - Returning y, yp, ym = 20.6899990845 mag(AB), 0.0099999998 mag, 0.0099999998 mag\n",
      "2025-02-25 07:27:11 -    DEBUG - zhunter.photometry - [photometry.py:506 - create_errorbar] - y, yerr = 2.069e+01, [[0.01]\n",
      " [0.01]]\n",
      "2025-02-25 07:27:11 -    DEBUG - zhunter.photometry - [photometry.py:342 - create_visual_representation] - Creating visual representation of photometric data point\n",
      "2025-02-25 07:27:11 -    DEBUG - zhunter.photometry - [photometry.py:438 - create_errorbar] - Creating error bar for photometric data point\n",
      "2025-02-25 07:27:11 -     INFO - zhunter.photometry - [photometry.py:462 - create_errorbar] - Making temporal plot relative to t0: 2023-10-13T00:00:53.709 (displayed in s)\n",
      "2025-02-25 07:27:11 -     INFO - zhunter.photometry - [photometry.py:480 - create_errorbar] - Converting x axis to logscale because t0 is present\n",
      "2025-02-25 07:27:11 -    DEBUG - zhunter.photometry - [photometry.py:486 - create_errorbar] - x, xerr = 4.613e+00, [[0.00159171]\n",
      " [0.00158589]]\n",
      "2025-02-25 07:27:11 -    DEBUG - zhunter.conversions - [conversions.py: 80 - convert_flux_with_unc_propagation] - Both units are the same (mag(AB)), no conversion needed.\n",
      "2025-02-25 07:27:11 -    DEBUG - zhunter.conversions - [conversions.py: 89 - convert_flux_with_unc_propagation] - Returning y, yp, ym = 20.5800009155 mag(AB), 0.0199999996 mag, 0.0199999996 mag\n",
      "2025-02-25 07:27:11 -    DEBUG - zhunter.photometry - [photometry.py:506 - create_errorbar] - y, yerr = 2.058e+01, [[0.02]\n",
      " [0.02]]\n",
      "2025-02-25 07:27:11 -    DEBUG - zhunter.photometry - [photometry.py:342 - create_visual_representation] - Creating visual representation of photometric data point\n",
      "2025-02-25 07:27:11 -    DEBUG - zhunter.photometry - [photometry.py:438 - create_errorbar] - Creating error bar for photometric data point\n",
      "2025-02-25 07:27:11 -     INFO - zhunter.photometry - [photometry.py:462 - create_errorbar] - Making temporal plot relative to t0: 2023-10-13T00:00:53.709 (displayed in s)\n",
      "2025-02-25 07:27:11 -     INFO - zhunter.photometry - [photometry.py:480 - create_errorbar] - Converting x axis to logscale because t0 is present\n",
      "2025-02-25 07:27:11 -    DEBUG - zhunter.photometry - [photometry.py:486 - create_errorbar] - x, xerr = 4.613e+00, [[0.00159171]\n",
      " [0.00158589]]\n",
      "2025-02-25 07:27:11 -    DEBUG - zhunter.conversions - [conversions.py: 80 - convert_flux_with_unc_propagation] - Both units are the same (mag(AB)), no conversion needed.\n",
      "2025-02-25 07:27:11 -    DEBUG - zhunter.conversions - [conversions.py: 89 - convert_flux_with_unc_propagation] - Returning y, yp, ym = 21.0100006866 mag(AB), 0.0199999996 mag, 0.0199999996 mag\n",
      "2025-02-25 07:27:11 -    DEBUG - zhunter.photometry - [photometry.py:506 - create_errorbar] - y, yerr = 2.101e+01, [[0.02]\n",
      " [0.02]]\n"
     ]
    },
    {
     "name": "stderr",
     "output_type": "stream",
     "text": [
      "The cached device pixel ratio value was stale on window expose.  Please file a QTBUG which explains how to reproduce.\n",
      "The cached device pixel ratio value was stale on window expose.  Please file a QTBUG which explains how to reproduce.\n",
      "The cached device pixel ratio value was stale on window expose.  Please file a QTBUG which explains how to reproduce.\n",
      "The cached device pixel ratio value was stale on window expose.  Please file a QTBUG which explains how to reproduce.\n",
      "The cached device pixel ratio value was stale on window expose.  Please file a QTBUG which explains how to reproduce.\n",
      "The cached device pixel ratio value was stale on window expose.  Please file a QTBUG which explains how to reproduce.\n",
      "The cached device pixel ratio value was stale on window expose.  Please file a QTBUG which explains how to reproduce.\n"
     ]
    }
   ],
   "source": [
    "pi = pg.PlotWidget()\n",
    "for o in obs:\n",
    "    o.plot_pyqt(vb=pi, t0=Time(hdul[0].header[\"TT_ECL\"])-4*u.d, mode=\"temporal\", xlogscale=True)\n",
    "pi.show()"
   ]
  },
  {
   "cell_type": "code",
   "execution_count": null,
   "id": "57de2e4c",
   "metadata": {},
   "outputs": [],
   "source": []
  },
  {
   "cell_type": "code",
   "execution_count": 54,
   "id": "1739c609",
   "metadata": {},
   "outputs": [
    {
     "data": {
      "text/html": [
       "<div><i>Table length=416</i>\n",
       "<table id=\"table5628479968\" class=\"table-striped table-bordered table-condensed\">\n",
       "<thead><tr><th>VT_ID</th><th>RA_R0</th><th>RA_R1</th><th>RA_R2</th><th>RA_R3</th><th>RA_B0</th><th>RA_B1</th><th>RA_B2</th><th>RA_B3</th><th>DEC_R0</th><th>DEC_R1</th><th>DEC_R2</th><th>DEC_R3</th><th>DEC_B0</th><th>DEC_B1</th><th>DEC_B2</th><th>DEC_B3</th><th>MAG_R_R0</th><th>MAG_R_R1</th><th>MAG_R_R2</th><th>MAG_R_R3</th><th>MAG_R_B0</th><th>MAG_R_B1</th><th>MAG_R_B2</th><th>MAG_R_B3</th><th>MAG_R_ERR_R0</th><th>MAG_R_ERR_R1</th><th>MAG_R_ERR_R2</th><th>MAG_R_ERR_R3</th><th>MAG_R_ERR_B0</th><th>MAG_R_ERR_B1</th><th>MAG_R_ERR_B2</th><th>MAG_R_ERR_B3</th><th>MAG_B_R0</th><th>MAG_B_R1</th><th>MAG_B_R2</th><th>MAG_B_R3</th><th>MAG_B_B0</th><th>MAG_B_B1</th><th>MAG_B_B2</th><th>MAG_B_B3</th><th>MAG_B_ERR_R0</th><th>MAG_B_ERR_R1</th><th>MAG_B_ERR_R2</th><th>MAG_B_ERR_R3</th><th>MAG_B_ERR_B0</th><th>MAG_B_ERR_B1</th><th>MAG_B_ERR_B2</th><th>MAG_B_ERR_B3</th><th>ANGDIST_R0</th><th>ANGDIST_R1</th><th>ANGDIST_R2</th><th>ANGDIST_R3</th><th>ANGDIST_B0</th><th>ANGDIST_B1</th><th>ANGDIST_B2</th><th>ANGDIST_B3</th><th>DMAG_R0</th><th>DMAG_R1</th><th>DMAG_R2</th><th>DMAG_R3</th><th>DMAG_B0</th><th>DMAG_B1</th><th>DMAG_B2</th><th>DMAG_B3</th></tr></thead>\n",
       "<thead><tr><th></th><th>deg</th><th>deg</th><th>deg</th><th>deg</th><th>deg</th><th>deg</th><th>deg</th><th>deg</th><th>deg</th><th>deg</th><th>deg</th><th>deg</th><th>deg</th><th>deg</th><th>deg</th><th>deg</th><th></th><th></th><th></th><th></th><th></th><th></th><th></th><th></th><th></th><th></th><th></th><th></th><th></th><th></th><th></th><th></th><th></th><th></th><th></th><th></th><th></th><th></th><th></th><th></th><th></th><th></th><th></th><th></th><th></th><th></th><th></th><th></th><th>arcsec</th><th>arcsec</th><th>arcsec</th><th>arcsec</th><th>arcsec</th><th>arcsec</th><th>arcsec</th><th>arcsec</th><th></th><th></th><th></th><th></th><th></th><th></th><th></th><th></th></tr></thead>\n",
       "<thead><tr><th>int64</th><th>float64</th><th>float64</th><th>float64</th><th>float64</th><th>float64</th><th>float64</th><th>float64</th><th>float64</th><th>float64</th><th>float64</th><th>float64</th><th>float64</th><th>float64</th><th>float64</th><th>float64</th><th>float64</th><th>float64</th><th>float64</th><th>float64</th><th>float64</th><th>float64</th><th>float64</th><th>float64</th><th>float64</th><th>float64</th><th>float64</th><th>float64</th><th>float64</th><th>float64</th><th>float64</th><th>float64</th><th>float64</th><th>float64</th><th>float64</th><th>float64</th><th>float64</th><th>float64</th><th>float64</th><th>float64</th><th>float64</th><th>float64</th><th>float64</th><th>float64</th><th>float64</th><th>float64</th><th>float64</th><th>float64</th><th>float64</th><th>float64</th><th>float64</th><th>float64</th><th>float64</th><th>float64</th><th>float64</th><th>float64</th><th>float64</th><th>float64</th><th>float64</th><th>float64</th><th>float64</th><th>float64</th><th>float64</th><th>float64</th><th>float64</th></tr></thead>\n",
       "<tr><td>1</td><td>--</td><td>--</td><td>--</td><td>--</td><td>113.54836882300768</td><td>113.54836882300768</td><td>113.54836882300768</td><td>0.0</td><td>--</td><td>--</td><td>--</td><td>--</td><td>32.36728210433652</td><td>32.36728210433652</td><td>32.36728210433652</td><td>0.0</td><td>--</td><td>--</td><td>--</td><td>--</td><td>13.604792594909668</td><td>13.604792594909668</td><td>13.604792594909668</td><td>0.0</td><td>0.0</td><td>0.0</td><td>0.0</td><td>0.0</td><td>0.0</td><td>0.0</td><td>0.0</td><td>0.0</td><td>--</td><td>--</td><td>--</td><td>--</td><td>13.891736030578612</td><td>13.891736030578612</td><td>13.891736030578612</td><td>0.0</td><td>0.0</td><td>0.0</td><td>0.0</td><td>0.0</td><td>0.0</td><td>0.0</td><td>0.0</td><td>0.0</td><td>--</td><td>--</td><td>--</td><td>--</td><td>0.035088</td><td>0.036329</td><td>0.089962</td><td>0.0</td><td>--</td><td>--</td><td>--</td><td>--</td><td>-0.32625198362138796</td><td>-0.2612514496213887</td><td>-0.21625232692138852</td><td>0.0</td></tr>\n",
       "<tr><td>2</td><td>113.51417864970084</td><td>113.51417864970084</td><td>--</td><td>113.51417864970084</td><td>113.51417864970084</td><td>113.51417864970084</td><td>113.51417864970084</td><td>0.0</td><td>32.34779065737403</td><td>32.34779065737403</td><td>--</td><td>32.34779065737403</td><td>32.34779065737403</td><td>32.34779065737403</td><td>32.34779065737403</td><td>0.0</td><td>13.628472328186035</td><td>13.628472328186035</td><td>--</td><td>13.628472328186035</td><td>13.628472328186035</td><td>13.628472328186035</td><td>13.628472328186035</td><td>0.0</td><td>0.0</td><td>0.0</td><td>0.0</td><td>0.0</td><td>0.0</td><td>0.0</td><td>0.0</td><td>0.0</td><td>14.216758728027344</td><td>14.216758728027344</td><td>--</td><td>14.216758728027344</td><td>14.216758728027344</td><td>14.216758728027344</td><td>14.216758728027344</td><td>0.0</td><td>0.0</td><td>0.0</td><td>0.0</td><td>0.0</td><td>0.0</td><td>0.0</td><td>0.0</td><td>0.0</td><td>0.011171</td><td>0.017501</td><td>--</td><td>0.042372</td><td>0.070719</td><td>0.067628</td><td>0.085749</td><td>0.0</td><td>-0.024083137513965625</td><td>-0.04908275601396461</td><td>--</td><td>-0.169083595313964</td><td>-0.23122882847265558</td><td>-0.13622951507265668</td><td>-0.08122920987265658</td><td>0.0</td></tr>\n",
       "<tr><td>3</td><td>--</td><td>--</td><td>--</td><td>--</td><td>113.48142263400987</td><td>113.48142263400987</td><td>113.48142263400987</td><td>0.0</td><td>--</td><td>--</td><td>--</td><td>--</td><td>32.39111469326149</td><td>32.39111469326149</td><td>32.39111469326149</td><td>0.0</td><td>--</td><td>--</td><td>--</td><td>--</td><td>14.438010215759276</td><td>14.438010215759276</td><td>14.438010215759276</td><td>0.0</td><td>0.0</td><td>0.0</td><td>0.0</td><td>0.0</td><td>0.0</td><td>0.0</td><td>0.0</td><td>0.0</td><td>--</td><td>--</td><td>--</td><td>--</td><td>15.570302963256836</td><td>15.570302963256836</td><td>15.570302963256836</td><td>0.0</td><td>0.0</td><td>0.0</td><td>0.0</td><td>0.0</td><td>0.0</td><td>0.0</td><td>0.0</td><td>0.0</td><td>--</td><td>--</td><td>--</td><td>--</td><td>0.380026</td><td>0.407747</td><td>0.70183</td><td>0.0</td><td>--</td><td>--</td><td>--</td><td>--</td><td>0.3723154067568366</td><td>0.44731426235683536</td><td>0.5123147964568364</td><td>0.0</td></tr>\n",
       "<tr><td>4</td><td>--</td><td>--</td><td>--</td><td>--</td><td>113.55866830319296</td><td>113.55866830319296</td><td>113.55866830319296</td><td>0.0</td><td>--</td><td>--</td><td>--</td><td>--</td><td>32.38025319518838</td><td>32.38025319518838</td><td>32.38025319518838</td><td>0.0</td><td>--</td><td>--</td><td>--</td><td>--</td><td>15.676219940185549</td><td>15.676219940185549</td><td>15.676219940185549</td><td>0.0</td><td>0.0</td><td>0.0</td><td>0.0</td><td>0.0</td><td>0.0</td><td>0.0</td><td>0.0</td><td>0.0</td><td>--</td><td>--</td><td>--</td><td>--</td><td>16.210620880126953</td><td>16.210620880126953</td><td>16.210620880126953</td><td>0.0</td><td>0.0</td><td>0.0</td><td>0.0</td><td>0.0</td><td>0.0</td><td>0.0</td><td>0.0</td><td>0.0</td><td>--</td><td>--</td><td>--</td><td>--</td><td>0.059158</td><td>0.045312</td><td>0.158256</td><td>0.0</td><td>--</td><td>--</td><td>--</td><td>--</td><td>-0.16736602787304733</td><td>-0.08236694337304584</td><td>-0.03736877437304642</td><td>0.0</td></tr>\n",
       "<tr><td>5</td><td>113.5266187554828</td><td>113.5266187554828</td><td>113.5266187554828</td><td>--</td><td>113.5266187554828</td><td>113.5266187554828</td><td>113.5266187554828</td><td>0.0</td><td>32.34636392627745</td><td>32.34636392627745</td><td>32.34636392627745</td><td>--</td><td>32.34636392627745</td><td>32.34636392627745</td><td>32.34636392627745</td><td>0.0</td><td>15.74032497406006</td><td>15.74032497406006</td><td>15.74032497406006</td><td>--</td><td>15.74032497406006</td><td>15.74032497406006</td><td>15.74032497406006</td><td>0.0</td><td>0.0</td><td>0.0</td><td>0.0</td><td>0.0</td><td>0.0</td><td>0.0</td><td>0.0</td><td>0.0</td><td>16.24835205078125</td><td>16.24835205078125</td><td>16.24835205078125</td><td>--</td><td>16.24835205078125</td><td>16.24835205078125</td><td>16.24835205078125</td><td>0.0</td><td>0.0</td><td>0.0</td><td>0.0</td><td>0.0</td><td>0.0</td><td>0.0</td><td>0.0</td><td>0.0</td><td>0.101543</td><td>0.096748</td><td>0.809394</td><td>--</td><td>0.074987</td><td>0.735877</td><td>0.160661</td><td>0.0</td><td>0.007767677260060779</td><td>-0.05723094943993878</td><td>-3.4872312545399407</td><td>--</td><td>-0.23963546751874887</td><td>-0.3146362304187491</td><td>-0.05963516231874877</td><td>0.0</td></tr>\n",
       "<tr><td>6</td><td>113.48483420217664</td><td>113.48483420217664</td><td>--</td><td>113.48483420217664</td><td>113.48483420217664</td><td>113.48483420217664</td><td>113.48483420217664</td><td>0.0</td><td>32.35454017948409</td><td>32.35454017948409</td><td>--</td><td>32.35454017948409</td><td>32.35454017948409</td><td>32.35454017948409</td><td>32.35454017948409</td><td>0.0</td><td>15.65696144104004</td><td>15.65696144104004</td><td>--</td><td>15.65696144104004</td><td>15.65696144104004</td><td>15.65696144104004</td><td>15.65696144104004</td><td>0.0</td><td>0.0</td><td>0.0</td><td>0.0</td><td>0.0</td><td>0.0</td><td>0.0</td><td>0.0</td><td>0.0</td><td>16.242450714111328</td><td>16.242450714111328</td><td>--</td><td>16.242450714111328</td><td>16.242450714111328</td><td>16.242450714111328</td><td>16.242450714111328</td><td>0.0</td><td>0.0</td><td>0.0</td><td>0.0</td><td>0.0</td><td>0.0</td><td>0.0</td><td>0.0</td><td>0.0</td><td>0.057645</td><td>0.032095</td><td>--</td><td>0.041355</td><td>0.113276</td><td>0.096998</td><td>0.265313</td><td>0.0</td><td>-0.025596618659958992</td><td>-0.010593414259959744</td><td>--</td><td>-0.13059616085995884</td><td>-0.20553588868867223</td><td>-0.11053848268867128</td><td>0.004463195811329257</td><td>0.0</td></tr>\n",
       "<tr><td>7</td><td>113.48399816626548</td><td>113.48399816626548</td><td>--</td><td>113.48399816626548</td><td>113.48399816626548</td><td>113.48399816626548</td><td>113.48399816626548</td><td>0.0</td><td>32.40882018865137</td><td>32.40882018865137</td><td>--</td><td>32.40882018865137</td><td>32.40882018865137</td><td>32.40882018865137</td><td>32.40882018865137</td><td>0.0</td><td>15.513429641723633</td><td>15.513429641723633</td><td>--</td><td>15.513429641723633</td><td>15.513429641723633</td><td>15.513429641723633</td><td>15.513429641723633</td><td>0.0</td><td>0.0</td><td>0.0</td><td>0.0</td><td>0.0</td><td>0.0</td><td>0.0</td><td>0.0</td><td>0.0</td><td>16.56930160522461</td><td>16.56930160522461</td><td>--</td><td>16.56930160522461</td><td>16.56930160522461</td><td>16.56930160522461</td><td>16.56930160522461</td><td>0.0</td><td>0.0</td><td>0.0</td><td>0.0</td><td>0.0</td><td>0.0</td><td>0.0</td><td>0.0</td><td>0.0</td><td>0.031494</td><td>0.103354</td><td>--</td><td>0.046481</td><td>0.086227</td><td>0.085259</td><td>0.455969</td><td>0.0</td><td>0.12087249752363327</td><td>0.07587432862363208</td><td>--</td><td>-0.04412841797636702</td><td>0.02131271362461007</td><td>0.08631515502461085</td><td>0.17131423952460878</td><td>0.0</td></tr>\n",
       "<tr><td>8</td><td>113.4823232791216</td><td>--</td><td>--</td><td>113.4823232791216</td><td>113.4823232791216</td><td>113.4823232791216</td><td>113.4823232791216</td><td>0.0</td><td>32.43234947985377</td><td>--</td><td>--</td><td>32.43234947985377</td><td>32.43234947985377</td><td>32.43234947985377</td><td>32.43234947985377</td><td>0.0</td><td>15.549556732177734</td><td>--</td><td>--</td><td>15.549556732177734</td><td>15.549556732177734</td><td>15.549556732177734</td><td>15.549556732177734</td><td>0.0</td><td>0.0</td><td>0.0</td><td>0.0</td><td>0.0</td><td>0.0</td><td>0.0</td><td>0.0</td><td>0.0</td><td>16.615842819213867</td><td>--</td><td>--</td><td>16.615842819213867</td><td>16.615842819213867</td><td>16.615842819213867</td><td>16.615842819213867</td><td>0.0</td><td>0.0</td><td>0.0</td><td>0.0</td><td>0.0</td><td>0.0</td><td>0.0</td><td>0.0</td><td>0.0</td><td>0.429736</td><td>--</td><td>--</td><td>0.461173</td><td>0.619203</td><td>0.63127</td><td>0.536651</td><td>0.0</td><td>0.15699958797773483</td><td>--</td><td>--</td><td>0.031999587977734834</td><td>0.01785469051386812</td><td>0.07285499571386822</td><td>0.1478557587138667</td><td>0.0</td></tr>\n",
       "<tr><td>9</td><td>--</td><td>--</td><td>113.52536751632488</td><td>--</td><td>113.52536751632488</td><td>113.52536751632488</td><td>113.52536751632488</td><td>0.0</td><td>--</td><td>--</td><td>32.39403208114787</td><td>--</td><td>32.39403208114787</td><td>32.39403208114787</td><td>32.39403208114787</td><td>0.0</td><td>--</td><td>--</td><td>16.024662017822266</td><td>--</td><td>16.024662017822266</td><td>16.024662017822266</td><td>16.024662017822266</td><td>0.0</td><td>0.0</td><td>0.0</td><td>0.0</td><td>0.0</td><td>0.0</td><td>0.0</td><td>0.0</td><td>0.0</td><td>--</td><td>--</td><td>16.580703735351562</td><td>--</td><td>16.580703735351562</td><td>16.580703735351562</td><td>16.580703735351562</td><td>0.0</td><td>0.0</td><td>0.0</td><td>0.0</td><td>0.0</td><td>0.0</td><td>0.0</td><td>0.0</td><td>0.0</td><td>--</td><td>--</td><td>0.356565</td><td>--</td><td>0.085728</td><td>0.085473</td><td>0.221877</td><td>0.0</td><td>--</td><td>--</td><td>-2.7328968047777344</td><td>--</td><td>-0.2172851562484368</td><td>-0.14228439334843657</td><td>-0.077285766648437</td><td>0.0</td></tr>\n",
       "<tr><td>...</td><td>...</td><td>...</td><td>...</td><td>...</td><td>...</td><td>...</td><td>...</td><td>...</td><td>...</td><td>...</td><td>...</td><td>...</td><td>...</td><td>...</td><td>...</td><td>...</td><td>...</td><td>...</td><td>...</td><td>...</td><td>...</td><td>...</td><td>...</td><td>...</td><td>...</td><td>...</td><td>...</td><td>...</td><td>...</td><td>...</td><td>...</td><td>...</td><td>...</td><td>...</td><td>...</td><td>...</td><td>...</td><td>...</td><td>...</td><td>...</td><td>...</td><td>...</td><td>...</td><td>...</td><td>...</td><td>...</td><td>...</td><td>...</td><td>...</td><td>...</td><td>...</td><td>...</td><td>...</td><td>...</td><td>...</td><td>...</td><td>...</td><td>...</td><td>...</td><td>...</td><td>...</td><td>...</td><td>...</td><td>...</td></tr>\n",
       "<tr><td>824</td><td>--</td><td>--</td><td>--</td><td>113.4939989124236</td><td>--</td><td>--</td><td>--</td><td>0.0</td><td>--</td><td>--</td><td>--</td><td>32.42856159038044</td><td>--</td><td>--</td><td>--</td><td>0.0</td><td>--</td><td>--</td><td>--</td><td>23.922422409057617</td><td>--</td><td>--</td><td>--</td><td>0.0</td><td>0.0</td><td>0.0</td><td>0.0</td><td>0.0</td><td>0.0</td><td>0.0</td><td>0.0</td><td>0.0</td><td>--</td><td>--</td><td>--</td><td>24.60923385620117</td><td>--</td><td>--</td><td>--</td><td>0.0</td><td>0.0</td><td>0.0</td><td>0.0</td><td>0.0</td><td>0.0</td><td>0.0</td><td>0.0</td><td>0.0</td><td>--</td><td>--</td><td>--</td><td>1.064996</td><td>--</td><td>--</td><td>--</td><td>0.0</td><td>--</td><td>--</td><td>--</td><td>1.9548645019576156</td><td>--</td><td>--</td><td>--</td><td>0.0</td></tr>\n",
       "<tr><td>825</td><td>--</td><td>--</td><td>--</td><td>113.47710331503502</td><td>--</td><td>--</td><td>--</td><td>0.0</td><td>--</td><td>--</td><td>--</td><td>32.33588426401987</td><td>--</td><td>--</td><td>--</td><td>0.0</td><td>--</td><td>--</td><td>--</td><td>21.141202926635746</td><td>--</td><td>--</td><td>--</td><td>0.0</td><td>0.0</td><td>0.0</td><td>0.0</td><td>0.0</td><td>0.0</td><td>0.0</td><td>0.0</td><td>0.0</td><td>--</td><td>--</td><td>--</td><td>22.73605155944824</td><td>--</td><td>--</td><td>--</td><td>0.0</td><td>0.0</td><td>0.0</td><td>0.0</td><td>0.0</td><td>0.0</td><td>0.0</td><td>0.0</td><td>0.0</td><td>--</td><td>--</td><td>--</td><td>1.640374</td><td>--</td><td>--</td><td>--</td><td>0.0</td><td>--</td><td>--</td><td>--</td><td>0.12364578243574442</td><td>--</td><td>--</td><td>--</td><td>0.0</td></tr>\n",
       "<tr><td>826</td><td>--</td><td>--</td><td>--</td><td>113.48919842498256</td><td>--</td><td>--</td><td>--</td><td>0.0</td><td>--</td><td>--</td><td>--</td><td>32.352126652167925</td><td>--</td><td>--</td><td>--</td><td>0.0</td><td>--</td><td>--</td><td>--</td><td>22.43584442138672</td><td>--</td><td>--</td><td>--</td><td>0.0</td><td>0.0</td><td>0.0</td><td>0.0</td><td>0.0</td><td>0.0</td><td>0.0</td><td>0.0</td><td>0.0</td><td>--</td><td>--</td><td>--</td><td>23.646921157836918</td><td>--</td><td>--</td><td>--</td><td>0.0</td><td>0.0</td><td>0.0</td><td>0.0</td><td>0.0</td><td>0.0</td><td>0.0</td><td>0.0</td><td>0.0</td><td>--</td><td>--</td><td>--</td><td>1.117158</td><td>--</td><td>--</td><td>--</td><td>0.0</td><td>--</td><td>--</td><td>--</td><td>0.34828758238671753</td><td>--</td><td>--</td><td>--</td><td>0.0</td></tr>\n",
       "<tr><td>828</td><td>--</td><td>--</td><td>--</td><td>113.49606518611049</td><td>--</td><td>--</td><td>--</td><td>0.0</td><td>--</td><td>--</td><td>--</td><td>32.37023620337241</td><td>--</td><td>--</td><td>--</td><td>0.0</td><td>--</td><td>--</td><td>--</td><td>23.30729484558105</td><td>--</td><td>--</td><td>--</td><td>0.0</td><td>0.0</td><td>0.0</td><td>0.0</td><td>0.0</td><td>0.0</td><td>0.0</td><td>0.0</td><td>0.0</td><td>--</td><td>--</td><td>--</td><td>25.492904663085938</td><td>--</td><td>--</td><td>--</td><td>0.0</td><td>0.0</td><td>0.0</td><td>0.0</td><td>0.0</td><td>0.0</td><td>0.0</td><td>0.0</td><td>0.0</td><td>--</td><td>--</td><td>--</td><td>1.976632</td><td>--</td><td>--</td><td>--</td><td>0.0</td><td>--</td><td>--</td><td>--</td><td>1.3697395324810522</td><td>--</td><td>--</td><td>--</td><td>0.0</td></tr>\n",
       "<tr><td>829</td><td>--</td><td>--</td><td>--</td><td>113.45473253417455</td><td>--</td><td>--</td><td>--</td><td>0.0</td><td>--</td><td>--</td><td>--</td><td>32.37703703812048</td><td>--</td><td>--</td><td>--</td><td>0.0</td><td>--</td><td>--</td><td>--</td><td>22.13543701171875</td><td>--</td><td>--</td><td>--</td><td>0.0</td><td>0.0</td><td>0.0</td><td>0.0</td><td>0.0</td><td>0.0</td><td>0.0</td><td>0.0</td><td>0.0</td><td>--</td><td>--</td><td>--</td><td>23.252647399902344</td><td>--</td><td>--</td><td>--</td><td>0.0</td><td>0.0</td><td>0.0</td><td>0.0</td><td>0.0</td><td>0.0</td><td>0.0</td><td>0.0</td><td>0.0</td><td>--</td><td>--</td><td>--</td><td>0.103145</td><td>--</td><td>--</td><td>--</td><td>0.0</td><td>--</td><td>--</td><td>--</td><td>0.2078800201187505</td><td>--</td><td>--</td><td>--</td><td>0.0</td></tr>\n",
       "<tr><td>830</td><td>--</td><td>--</td><td>--</td><td>113.49443491291686</td><td>--</td><td>--</td><td>--</td><td>0.0</td><td>--</td><td>--</td><td>--</td><td>32.33307079818748</td><td>--</td><td>--</td><td>--</td><td>0.0</td><td>--</td><td>--</td><td>--</td><td>22.4502067565918</td><td>--</td><td>--</td><td>--</td><td>0.0</td><td>0.0</td><td>0.0</td><td>0.0</td><td>0.0</td><td>0.0</td><td>0.0</td><td>0.0</td><td>0.0</td><td>--</td><td>--</td><td>--</td><td>23.352184295654297</td><td>--</td><td>--</td><td>--</td><td>0.0</td><td>0.0</td><td>0.0</td><td>0.0</td><td>0.0</td><td>0.0</td><td>0.0</td><td>0.0</td><td>0.0</td><td>--</td><td>--</td><td>--</td><td>1.285318</td><td>--</td><td>--</td><td>--</td><td>0.0</td><td>--</td><td>--</td><td>--</td><td>0.4726505279917994</td><td>--</td><td>--</td><td>--</td><td>0.0</td></tr>\n",
       "<tr><td>832</td><td>--</td><td>--</td><td>--</td><td>113.52321264321722</td><td>--</td><td>--</td><td>--</td><td>0.0</td><td>--</td><td>--</td><td>--</td><td>32.41989890507515</td><td>--</td><td>--</td><td>--</td><td>0.0</td><td>--</td><td>--</td><td>--</td><td>22.375808715820312</td><td>--</td><td>--</td><td>--</td><td>0.0</td><td>0.0</td><td>0.0</td><td>0.0</td><td>0.0</td><td>0.0</td><td>0.0</td><td>0.0</td><td>0.0</td><td>--</td><td>--</td><td>--</td><td>22.42186546325684</td><td>--</td><td>--</td><td>--</td><td>0.0</td><td>0.0</td><td>0.0</td><td>0.0</td><td>0.0</td><td>0.0</td><td>0.0</td><td>0.0</td><td>0.0</td><td>--</td><td>--</td><td>--</td><td>1.540253</td><td>--</td><td>--</td><td>--</td><td>0.0</td><td>--</td><td>--</td><td>--</td><td>0.3582515716203112</td><td>--</td><td>--</td><td>--</td><td>0.0</td></tr>\n",
       "<tr><td>833</td><td>--</td><td>--</td><td>--</td><td>113.48739948204984</td><td>--</td><td>--</td><td>--</td><td>0.0</td><td>--</td><td>--</td><td>--</td><td>32.42621519284678</td><td>--</td><td>--</td><td>--</td><td>0.0</td><td>--</td><td>--</td><td>--</td><td>23.605613708496094</td><td>--</td><td>--</td><td>--</td><td>0.0</td><td>0.0</td><td>0.0</td><td>0.0</td><td>0.0</td><td>0.0</td><td>0.0</td><td>0.0</td><td>0.0</td><td>--</td><td>--</td><td>--</td><td>24.005102157592773</td><td>--</td><td>--</td><td>--</td><td>0.0</td><td>0.0</td><td>0.0</td><td>0.0</td><td>0.0</td><td>0.0</td><td>0.0</td><td>0.0</td><td>0.0</td><td>--</td><td>--</td><td>--</td><td>0.574645</td><td>--</td><td>--</td><td>--</td><td>0.0</td><td>--</td><td>--</td><td>--</td><td>1.6080570220960944</td><td>--</td><td>--</td><td>--</td><td>0.0</td></tr>\n",
       "<tr><td>838</td><td>--</td><td>--</td><td>--</td><td>113.5316992960906</td><td>--</td><td>--</td><td>--</td><td>0.0</td><td>--</td><td>--</td><td>--</td><td>32.32356814652397</td><td>--</td><td>--</td><td>--</td><td>0.0</td><td>--</td><td>--</td><td>--</td><td>23.71565055847168</td><td>--</td><td>--</td><td>--</td><td>0.0</td><td>0.0</td><td>0.0</td><td>0.0</td><td>0.0</td><td>0.0</td><td>0.0</td><td>0.0</td><td>0.0</td><td>--</td><td>--</td><td>--</td><td>24.780595779418945</td><td>--</td><td>--</td><td>--</td><td>0.0</td><td>0.0</td><td>0.0</td><td>0.0</td><td>0.0</td><td>0.0</td><td>0.0</td><td>0.0</td><td>0.0</td><td>--</td><td>--</td><td>--</td><td>1.705647</td><td>--</td><td>--</td><td>--</td><td>0.0</td><td>--</td><td>--</td><td>--</td><td>1.51809310917168</td><td>--</td><td>--</td><td>--</td><td>0.0</td></tr>\n",
       "</table></div>"
      ],
      "text/plain": [
       "<Table length=416>\n",
       "VT_ID       RA_R0              RA_R1        ...       DMAG_B2        DMAG_B3\n",
       "             deg                deg         ...                             \n",
       "int64      float64            float64       ...       float64        float64\n",
       "----- ------------------ ------------------ ... -------------------- -------\n",
       "    1                 --                 -- ... -0.21625232692138852     0.0\n",
       "    2 113.51417864970084 113.51417864970084 ... -0.08122920987265658     0.0\n",
       "    3                 --                 -- ...   0.5123147964568364     0.0\n",
       "    4                 --                 -- ... -0.03736877437304642     0.0\n",
       "    5  113.5266187554828  113.5266187554828 ... -0.05963516231874877     0.0\n",
       "    6 113.48483420217664 113.48483420217664 ... 0.004463195811329257     0.0\n",
       "    7 113.48399816626548 113.48399816626548 ...  0.17131423952460878     0.0\n",
       "    8  113.4823232791216                 -- ...   0.1478557587138667     0.0\n",
       "    9                 --                 -- ...   -0.077285766648437     0.0\n",
       "  ...                ...                ... ...                  ...     ...\n",
       "  824                 --                 -- ...                   --     0.0\n",
       "  825                 --                 -- ...                   --     0.0\n",
       "  826                 --                 -- ...                   --     0.0\n",
       "  828                 --                 -- ...                   --     0.0\n",
       "  829                 --                 -- ...                   --     0.0\n",
       "  830                 --                 -- ...                   --     0.0\n",
       "  832                 --                 -- ...                   --     0.0\n",
       "  833                 --                 -- ...                   --     0.0\n",
       "  838                 --                 -- ...                   --     0.0"
      ]
     },
     "execution_count": 54,
     "metadata": {},
     "output_type": "execute_result"
    }
   ],
   "source": [
    "Table.read(hdul[\"CAT_LSDR10\"])"
   ]
  },
  {
   "cell_type": "code",
   "execution_count": null,
   "id": "9c733310",
   "metadata": {},
   "outputs": [],
   "source": []
  },
  {
   "cell_type": "code",
   "execution_count": null,
   "id": "131810e4",
   "metadata": {},
   "outputs": [],
   "source": []
  },
  {
   "cell_type": "code",
   "execution_count": null,
   "id": "c4e82305",
   "metadata": {},
   "outputs": [],
   "source": []
  }
 ],
 "metadata": {
  "kernelspec": {
   "display_name": "celexta_dev",
   "language": "python",
   "name": "python3"
  },
  "language_info": {
   "codemirror_mode": {
    "name": "ipython",
    "version": 3
   },
   "file_extension": ".py",
   "mimetype": "text/x-python",
   "name": "python",
   "nbconvert_exporter": "python",
   "pygments_lexer": "ipython3",
   "version": "3.12.5"
  }
 },
 "nbformat": 4,
 "nbformat_minor": 5
}
