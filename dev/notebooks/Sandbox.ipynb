{
 "cells": [
  {
   "cell_type": "code",
   "execution_count": 27,
   "id": "30ad4d0d-7d02-4911-9766-3dcbec064360",
   "metadata": {},
   "outputs": [],
   "source": [
    "import logging\n",
    "import sys\n",
    "from pathlib import Path"
   ]
  },
  {
   "cell_type": "code",
   "execution_count": 22,
   "id": "152c163d-fd03-4944-b5b9-4f8913ddf3dc",
   "metadata": {
    "scrolled": true
   },
   "outputs": [],
   "source": [
    "root = logging.getLogger()\n",
    "log_fmt = \"%(asctime)s - %(levelname)8s - [%(filename)s:%(lineno)3s - %(funcName)10s] - %(message)s\"\n",
    "date_fmt = \"%Y-%m-%d %H:%M:%S\"\n"
   ]
  },
  {
   "cell_type": "code",
   "execution_count": 36,
   "id": "edea02b9-8465-4faa-bc85-ed3bca0ec13b",
   "metadata": {
    "scrolled": true
   },
   "outputs": [
    {
     "data": {
      "text/plain": [
       "<RootLogger root (INFO)>"
      ]
     },
     "execution_count": 36,
     "metadata": {},
     "output_type": "execute_result"
    }
   ],
   "source": [
    "root.setLevel(logging.INFO)\n",
    "root"
   ]
  },
  {
   "cell_type": "code",
   "execution_count": 28,
   "id": "76c19e50-8b37-4425-af0d-7d307bad5f24",
   "metadata": {},
   "outputs": [],
   "source": [
    "sh = logging.StreamHandler(stream=sys.stdout)\n",
    "fh = logging.FileHandler(\n",
    "    filename=Path('~/Desktop/test.log').expanduser().resolve(),\n",
    "    encoding='utf-8',\n",
    "    mode='w',\n",
    ")"
   ]
  },
  {
   "cell_type": "code",
   "execution_count": 29,
   "id": "81928f5a-944e-4830-a6bc-2defed9408ef",
   "metadata": {},
   "outputs": [],
   "source": [
    "root.addHandler(sh)\n",
    "root.addHandler(fh)\n"
   ]
  },
  {
   "cell_type": "code",
   "execution_count": 30,
   "id": "16baba42-d1d7-4d6d-88d4-68fff65cfc96",
   "metadata": {},
   "outputs": [
    {
     "name": "stdout",
     "output_type": "stream",
     "text": [
      "test\n"
     ]
    }
   ],
   "source": [
    "root.debug(\"test\")"
   ]
  },
  {
   "cell_type": "code",
   "execution_count": 33,
   "id": "3d868c8f-e298-43f0-835a-6236895ee3b0",
   "metadata": {},
   "outputs": [],
   "source": [
    "fmter = logging.Formatter(log_fmt, datefmt=date_fmt)\n",
    "sh.setFormatter(fmter)\n",
    "fh.setFormatter(fmter)"
   ]
  },
  {
   "cell_type": "code",
   "execution_count": 38,
   "id": "0a22447f-d6c5-477f-bdac-79cd139fb031",
   "metadata": {},
   "outputs": [],
   "source": [
    "root.debug(\"test2\")\n"
   ]
  },
  {
   "cell_type": "code",
   "execution_count": 37,
   "id": "aa9441a8-3092-4c34-b378-3053460f808b",
   "metadata": {},
   "outputs": [
    {
     "data": {
      "text/plain": [
       "0"
      ]
     },
     "execution_count": 37,
     "metadata": {},
     "output_type": "execute_result"
    }
   ],
   "source": [
    "sh.level"
   ]
  },
  {
   "cell_type": "code",
   "execution_count": null,
   "id": "828ede9f-d696-40b2-babe-737823b5074f",
   "metadata": {},
   "outputs": [],
   "source": []
  }
 ],
 "metadata": {
  "kernelspec": {
   "display_name": "Python 3 (ipykernel)",
   "language": "python",
   "name": "python3"
  },
  "language_info": {
   "codemirror_mode": {
    "name": "ipython",
    "version": 3
   },
   "file_extension": ".py",
   "mimetype": "text/x-python",
   "name": "python",
   "nbconvert_exporter": "python",
   "pygments_lexer": "ipython3",
   "version": "3.10.14"
  }
 },
 "nbformat": 4,
 "nbformat_minor": 5
}
