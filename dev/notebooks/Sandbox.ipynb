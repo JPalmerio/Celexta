{
 "cells": [
  {
   "cell_type": "code",
   "execution_count": 1,
   "id": "30ad4d0d-7d02-4911-9766-3dcbec064360",
   "metadata": {},
   "outputs": [],
   "source": [
    "import logging\n",
    "import sys\n",
    "from pathlib import Path\n",
    "from celexta.initialize import default_logging\n",
    "log = default_logging()"
   ]
  },
  {
   "cell_type": "code",
   "execution_count": 2,
   "id": "13a035c8-2ac2-4d30-810a-88f4eafb7642",
   "metadata": {},
   "outputs": [],
   "source": [
    "%gui qt6\n",
    "from PyQt6 import QtWidgets\n",
    "from PyQt6 import QtCore\n",
    "from celexta.gcn_maker import GcnMakerWindow"
   ]
  },
  {
   "cell_type": "code",
   "execution_count": 3,
   "id": "d69d4f10-6d80-492e-a289-ef18e39d85c3",
   "metadata": {},
   "outputs": [],
   "source": [
    "mainw = QtWidgets.QMainWindow()"
   ]
  },
  {
   "cell_type": "code",
   "execution_count": 4,
   "id": "c7afc250-1806-4a12-a8f9-f46260228560",
   "metadata": {},
   "outputs": [],
   "source": [
    "mainw.show()"
   ]
  },
  {
   "cell_type": "code",
   "execution_count": 5,
   "id": "6ef928be-404d-429d-bbf8-2f1fae1e0ed7",
   "metadata": {},
   "outputs": [
    {
     "name": "stdout",
     "output_type": "stream",
     "text": [
      "2024-05-09 19:39:53 -     INFO - celexta.gcn_maker - [gcn_maker.py: 25 -   __init__] - Initializing GCN maker\n",
      "2024-05-09 19:39:54 -    DEBUG - celexta.gcn_maker - [gcn_maker.py:191 - _create_completer] - Creating completer for author line Edit\n"
     ]
    },
    {
     "ename": "AttributeError",
     "evalue": "'QComboBox' object has no attribute 'editingFinished'",
     "output_type": "error",
     "traceback": [
      "\u001b[0;31m---------------------------------------------------------------------------\u001b[0m",
      "\u001b[0;31mAttributeError\u001b[0m                            Traceback (most recent call last)",
      "Cell \u001b[0;32mIn[5], line 1\u001b[0m\n\u001b[0;32m----> 1\u001b[0m gcn_mw \u001b[38;5;241m=\u001b[39m \u001b[43mGcnMakerWindow\u001b[49m\u001b[43m(\u001b[49m\u001b[43mmainw\u001b[49m\u001b[43m)\u001b[49m\n",
      "File \u001b[0;32m~/Code_projects/Celexta/celexta/gcn_maker.py:31\u001b[0m, in \u001b[0;36mGcnMakerWindow.__init__\u001b[0;34m(self, parent, authors_fname)\u001b[0m\n\u001b[1;32m     29\u001b[0m \u001b[38;5;28mself\u001b[39m\u001b[38;5;241m.\u001b[39mauthor_model \u001b[38;5;241m=\u001b[39m AuthorModel()\n\u001b[1;32m     30\u001b[0m \u001b[38;5;28mself\u001b[39m\u001b[38;5;241m.\u001b[39m_create_completer()\n\u001b[0;32m---> 31\u001b[0m \u001b[38;5;28;43mself\u001b[39;49m\u001b[38;5;241;43m.\u001b[39;49m\u001b[43mconnect_buttons\u001b[49m\u001b[43m(\u001b[49m\u001b[43m)\u001b[49m\n\u001b[1;32m     32\u001b[0m \u001b[38;5;66;03m# Will look for default GCN_authors.csv if authors_fname is None\u001b[39;00m\n\u001b[1;32m     33\u001b[0m \u001b[38;5;28mself\u001b[39m\u001b[38;5;241m.\u001b[39mload_authors(fname\u001b[38;5;241m=\u001b[39mauthors_fname)\n",
      "File \u001b[0;32m~/Code_projects/Celexta/celexta/gcn_maker.py:41\u001b[0m, in \u001b[0;36mGcnMakerWindow.connect_buttons\u001b[0;34m(self)\u001b[0m\n\u001b[1;32m     39\u001b[0m \u001b[38;5;28mself\u001b[39m\u001b[38;5;241m.\u001b[39mbtn_save_template\u001b[38;5;241m.\u001b[39mclicked\u001b[38;5;241m.\u001b[39mconnect(\u001b[38;5;28mself\u001b[39m\u001b[38;5;241m.\u001b[39msave_template)\n\u001b[1;32m     40\u001b[0m \u001b[38;5;66;03m# self.lineEdit_author.editingFinished.connect(self.add_author)\u001b[39;00m\n\u001b[0;32m---> 41\u001b[0m \u001b[38;5;28;43mself\u001b[39;49m\u001b[38;5;241;43m.\u001b[39;49m\u001b[43mcomboBox_author\u001b[49m\u001b[38;5;241;43m.\u001b[39;49m\u001b[43meditingFinished\u001b[49m\u001b[38;5;241m.\u001b[39mconnect(\u001b[38;5;28mself\u001b[39m\u001b[38;5;241m.\u001b[39madd_author)\n",
      "\u001b[0;31mAttributeError\u001b[0m: 'QComboBox' object has no attribute 'editingFinished'"
     ]
    }
   ],
   "source": [
    "gcn_mw = GcnMakerWindow(mainw)\n"
   ]
  },
  {
   "cell_type": "code",
   "execution_count": 6,
   "id": "25c5d878-354a-4875-b95a-fcfac64441fd",
   "metadata": {},
   "outputs": [
    {
     "name": "stderr",
     "output_type": "stream",
     "text": [
      "qt.qpa.window: Window position QRect(126,-101 748x686) outside any known screen, using primary screen\n"
     ]
    }
   ],
   "source": [
    "gcn_mw.show()"
   ]
  },
  {
   "cell_type": "code",
   "execution_count": 8,
   "id": "f168d170-279d-4ccd-a967-fed2524764b7",
   "metadata": {},
   "outputs": [
    {
     "name": "stdout",
     "output_type": "stream",
     "text": [
      "2024-05-08 18:45:18 -    DEBUG - celexta.gcn_maker - [gcn_maker.py: 64 - add_author] - Author name input from user: ''\n",
      "2024-05-08 18:45:18 -    DEBUG - celexta.gcn_maker - [gcn_maker.py: 72 - add_author] - Nothing to do\n",
      "2024-05-08 18:45:22 -    DEBUG - celexta.gcn_maker - [gcn_maker.py: 64 - add_author] - Author name input from user: 'b'\n"
     ]
    },
    {
     "name": "stderr",
     "output_type": "stream",
     "text": [
      "Traceback (most recent call last):\n",
      "  File \"/Users/palmerio/Code_projects/Celexta/celexta/gcn_maker.py\", line 67, in add_author\n",
      "    name = self.get_full_author(_name)\n",
      "  File \"/Users/palmerio/Code_projects/Celexta/celexta/gcn_maker.py\", line 116, in get_full_author\n",
      "    _author = self.authors[self.authors[\"name\"].str.contains(name)]\n",
      "AttributeError: 'GcnMakerWindow' object has no attribute 'authors'\n"
     ]
    }
   ],
   "source": [
    "gcn_mw.author_model.authors.append(('Bilbo Baggins','The Shire'))"
   ]
  },
  {
   "cell_type": "code",
   "execution_count": 7,
   "id": "28a27d8f-d735-435a-9dcc-245c71fcb5e8",
   "metadata": {},
   "outputs": [],
   "source": [
    "from celexta.gcn_maker import AuthorModel\n",
    "w = QtWidgets.QComboBox()"
   ]
  },
  {
   "cell_type": "code",
   "execution_count": 11,
   "id": "d1ad02a2-707e-44e7-b0df-9087cf32d8f0",
   "metadata": {},
   "outputs": [],
   "source": [
    "model = AuthorModel(authors=list(df.itertuples(index=False, name=None)))\n",
    "completer = QtWidgets.QCompleter(model)"
   ]
  },
  {
   "cell_type": "code",
   "execution_count": null,
   "id": "bf62e6f7-6123-432b-a1a7-8a21f938c3f3",
   "metadata": {},
   "outputs": [],
   "source": [
    "# author_list = [\"B. Baggins\", \"F. Baggins\", \"S. Gamgee\", \"P. Took\", \"M. Brandybuck\"]\n",
    "# model2 = QtCore.QStringListModel(author_list)\n",
    "# completer = QtWidgets.QCompleter(model2)\n",
    "\n",
    "completer.setCaseSensitivity(QtCore.Qt.CaseSensitivity.CaseInsensitive)\n",
    "completer.setFilterMode(QtCore.Qt.MatchFlag.MatchContains)\n",
    "w.setCompleter(completer)"
   ]
  },
  {
   "cell_type": "code",
   "execution_count": 8,
   "id": "9ebdbe40-5534-484c-9cac-e8e961269ae7",
   "metadata": {},
   "outputs": [],
   "source": [
    "mainw.setCentralWidget(w)"
   ]
  },
  {
   "cell_type": "code",
   "execution_count": 12,
   "id": "d346ff1b-bc3e-4d66-8e5b-799b7181656d",
   "metadata": {},
   "outputs": [],
   "source": [
    "w.setModel(model)"
   ]
  },
  {
   "cell_type": "code",
   "execution_count": 16,
   "id": "9d09d8bd-0292-4b79-a822-932d75a3d998",
   "metadata": {},
   "outputs": [
    {
     "name": "stdout",
     "output_type": "stream",
     "text": [
      "2024-05-08 18:41:58 -    DEBUG - celexta.gcn_maker - [gcn_maker.py: 64 - add_author] - Author name input from user: ''\n",
      "2024-05-08 18:41:58 -    DEBUG - celexta.gcn_maker - [gcn_maker.py: 72 - add_author] - Nothing to do\n"
     ]
    }
   ],
   "source": [
    "model.authors.append(('Bilbo Baggins','The Shire'))"
   ]
  }
 ],
 "metadata": {
  "kernelspec": {
   "display_name": "Python 3 (ipykernel)",
   "language": "python",
   "name": "python3"
  },
  "language_info": {
   "codemirror_mode": {
    "name": "ipython",
    "version": 3
   },
   "file_extension": ".py",
   "mimetype": "text/x-python",
   "name": "python",
   "nbconvert_exporter": "python",
   "pygments_lexer": "ipython3",
   "version": "3.10.14"
  }
 },
 "nbformat": 4,
 "nbformat_minor": 5
}
