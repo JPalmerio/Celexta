{
 "cells": [
  {
   "cell_type": "code",
   "execution_count": 12,
   "id": "e28930fc-b7d6-4019-aab0-835fd3f5fb7b",
   "metadata": {},
   "outputs": [],
   "source": [
    "%gui qt6\n",
    "from PyQt6 import QtWidgets\n",
    "from PyQt6 import QtCore\n",
    "mainw = QtWidgets.QMainWindow()\n",
    "qle = QtWidgets.QLineEdit()\n",
    "mainw.setCentralWidget(qle)\n",
    "mainw.show()"
   ]
  },
  {
   "cell_type": "code",
   "execution_count": 3,
   "id": "6ae451e3-9306-46ad-bb3e-e7727d8b662e",
   "metadata": {},
   "outputs": [],
   "source": [
    "from celexta.gcn_maker import AuthorModel\n",
    "import pandas as pd\n",
    "df = pd.read_csv('../../celexta/config/GCN_authors.csv')\n",
    "\n",
    "model = AuthorModel(authors=list(df.itertuples(index=False, name=None)))\n"
   ]
  },
  {
   "cell_type": "code",
   "execution_count": 13,
   "id": "df8ce7dc-bc09-48a0-b5f4-37f0561fb287",
   "metadata": {},
   "outputs": [
    {
     "data": {
      "text/plain": [
       "[('A. Dumbledore', 'Hogwarts School of Witchcraft and Wizardry'),\n",
       " ('H. Potter', 'Hogwarts School of Witchcraft and Wizardry'),\n",
       " ('F. Delacour', 'Beauxbatons Academy of Magic'),\n",
       " ('V. Krum', 'Durmstrang Institute')]"
      ]
     },
     "execution_count": 13,
     "metadata": {},
     "output_type": "execute_result"
    }
   ],
   "source": [
    "list(df[[\"name\", \"affiliations\"]].itertuples(index=False, name=None))"
   ]
  },
  {
   "cell_type": "code",
   "execution_count": 14,
   "id": "c61cb621-7d70-4e7a-855a-2b28d04905ef",
   "metadata": {},
   "outputs": [],
   "source": [
    "completer = QtWidgets.QCompleter(model)\n",
    "completer.setCaseSensitivity(QtCore.Qt.CaseSensitivity.CaseInsensitive)\n",
    "completer.setFilterMode(QtCore.Qt.MatchFlag.MatchContains)\n",
    "# completer.setCompletionMode(QtWidgets.QCompleter.CompletionMode.InlineCompletion)\n",
    "qle.setCompleter(completer)"
   ]
  },
  {
   "cell_type": "code",
   "execution_count": 17,
   "id": "c1f4d8fe-badf-4432-836d-a3f9bb8d58e2",
   "metadata": {},
   "outputs": [
    {
     "data": {
      "text/plain": [
       "<PyQt6.QtCore.QMetaObject.Connection at 0x114dcc510>"
      ]
     },
     "execution_count": 17,
     "metadata": {},
     "output_type": "execute_result"
    },
    {
     "name": "stdout",
     "output_type": "stream",
     "text": [
      "Hello, ()\n"
     ]
    }
   ],
   "source": [
    "def hello(*args):\n",
    "    print(f\"Hello, {args}\")\n",
    "    mainw.setFocus()\n",
    "qle.editingFinished.connect(hello)"
   ]
  },
  {
   "cell_type": "code",
   "execution_count": 18,
   "id": "19ba5068-1235-4b8a-8f6d-fe60da8e1b7d",
   "metadata": {},
   "outputs": [
    {
     "data": {
      "text/plain": [
       "True"
      ]
     },
     "execution_count": 18,
     "metadata": {},
     "output_type": "execute_result"
    },
    {
     "name": "stdout",
     "output_type": "stream",
     "text": [
      "Hello, ()\n",
      "Hello, ()\n"
     ]
    }
   ],
   "source": [
    "completer.blockSignals(False)\n"
   ]
  },
  {
   "cell_type": "code",
   "execution_count": 16,
   "id": "b260be80-a02a-49ec-987e-162a76e590e9",
   "metadata": {},
   "outputs": [],
   "source": [
    "qle.editingFinished.disconnect()"
   ]
  },
  {
   "cell_type": "code",
   "execution_count": null,
   "id": "2e077c2b-e445-4eaa-84b2-e54c68ba9ceb",
   "metadata": {},
   "outputs": [],
   "source": []
  }
 ],
 "metadata": {
  "kernelspec": {
   "display_name": "Python 3 (ipykernel)",
   "language": "python",
   "name": "python3"
  },
  "language_info": {
   "codemirror_mode": {
    "name": "ipython",
    "version": 3
   },
   "file_extension": ".py",
   "mimetype": "text/x-python",
   "name": "python",
   "nbconvert_exporter": "python",
   "pygments_lexer": "ipython3",
   "version": "3.10.14"
  }
 },
 "nbformat": 4,
 "nbformat_minor": 5
}
